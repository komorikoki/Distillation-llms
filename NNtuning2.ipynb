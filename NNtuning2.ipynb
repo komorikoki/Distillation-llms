{
 "cells": [
  {
   "cell_type": "code",
   "execution_count": 10,
   "metadata": {},
   "outputs": [],
   "source": [
    "import torch\n",
    "from torch import nn\n",
    "from datasets import load_dataset\n",
    "\n",
    "dataset = load_dataset(\"mteb/tweet_sentiment_extraction\")"
   ]
  },
  {
   "cell_type": "code",
   "execution_count": 11,
   "metadata": {},
   "outputs": [],
   "source": [
    "from transformers import GPT2Tokenizer, GPT2ForSequenceClassification, Trainer, TrainingArguments\n",
    "tokenizer = GPT2Tokenizer.from_pretrained(\"gpt2\")\n",
    "tokenizer.pad_token = tokenizer.eos_token"
   ]
  },
  {
   "cell_type": "code",
   "execution_count": 12,
   "metadata": {},
   "outputs": [],
   "source": [
    "def tokenize_function(examples):\n",
    "    return tokenizer(examples[\"text\"], padding=\"max_length\", truncation=True)\n",
    "\n",
    "tokenized_datasets = dataset.map(tokenize_function, batched=True)"
   ]
  },
  {
   "cell_type": "code",
   "execution_count": 13,
   "metadata": {},
   "outputs": [],
   "source": [
    "small_train_dataset = tokenized_datasets[\"train\"].shuffle(seed=42).select(range(1000))\n",
    "small_eval_dataset = tokenized_datasets[\"test\"].shuffle(seed=42).select(range(1000))"
   ]
  },
  {
   "cell_type": "code",
   "execution_count": 14,
   "metadata": {},
   "outputs": [],
   "source": [
    "class CombinedModel(torch.nn.Module):\n",
    "    def __init__(self, gpt2_model):\n",
    "        super(CombinedModel, self).__init__()\n",
    "        self.gpt2_model = gpt2_model\n",
    "        \n",
    "    def forward(self, input_ids, attention_mask=None, labels=None):\n",
    "        # GPT-2の出力を取得\n",
    "        outputs = self.gpt2_model(input_ids=input_ids, attention_mask=attention_mask, labels=labels)\n",
    "        return outputs"
   ]
  },
  {
   "cell_type": "code",
   "execution_count": 27,
   "metadata": {},
   "outputs": [
    {
     "data": {
      "text/plain": [
       "===========================================================================\n",
       "Layer (type:depth-idx)                             Param #\n",
       "===========================================================================\n",
       "GPT2ForSequenceClassification                      --\n",
       "├─GPT2Model: 1-1                                   --\n",
       "│    └─Embedding: 2-1                              38,597,376\n",
       "│    └─Embedding: 2-2                              786,432\n",
       "│    └─Dropout: 2-3                                --\n",
       "│    └─ModuleList: 2-4                             --\n",
       "│    │    └─GPT2Block: 3-1                         --\n",
       "│    │    │    └─LayerNorm: 4-1                    1,536\n",
       "│    │    │    └─GPT2SdpaAttention: 4-2            --\n",
       "│    │    │    │    └─Conv1D: 5-1                  1,771,776\n",
       "│    │    │    │    └─Conv1D: 5-2                  590,592\n",
       "│    │    │    │    └─Dropout: 5-3                 --\n",
       "│    │    │    │    └─Dropout: 5-4                 --\n",
       "│    │    │    └─LayerNorm: 4-3                    1,536\n",
       "│    │    │    └─GPT2MLP: 4-4                      --\n",
       "│    │    │    │    └─Conv1D: 5-5                  2,362,368\n",
       "│    │    │    │    └─Conv1D: 5-6                  2,360,064\n",
       "│    │    │    │    └─NewGELUActivation: 5-7       --\n",
       "│    │    │    │    └─Dropout: 5-8                 --\n",
       "│    │    └─GPT2Block: 3-2                         --\n",
       "│    │    │    └─LayerNorm: 4-5                    1,536\n",
       "│    │    │    └─GPT2SdpaAttention: 4-6            --\n",
       "│    │    │    │    └─Conv1D: 5-9                  1,771,776\n",
       "│    │    │    │    └─Conv1D: 5-10                 590,592\n",
       "│    │    │    │    └─Dropout: 5-11                --\n",
       "│    │    │    │    └─Dropout: 5-12                --\n",
       "│    │    │    └─LayerNorm: 4-7                    1,536\n",
       "│    │    │    └─GPT2MLP: 4-8                      --\n",
       "│    │    │    │    └─Conv1D: 5-13                 2,362,368\n",
       "│    │    │    │    └─Conv1D: 5-14                 2,360,064\n",
       "│    │    │    │    └─NewGELUActivation: 5-15      --\n",
       "│    │    │    │    └─Dropout: 5-16                --\n",
       "│    │    └─GPT2Block: 3-3                         --\n",
       "│    │    │    └─LayerNorm: 4-9                    1,536\n",
       "│    │    │    └─GPT2SdpaAttention: 4-10           --\n",
       "│    │    │    │    └─Conv1D: 5-17                 1,771,776\n",
       "│    │    │    │    └─Conv1D: 5-18                 590,592\n",
       "│    │    │    │    └─Dropout: 5-19                --\n",
       "│    │    │    │    └─Dropout: 5-20                --\n",
       "│    │    │    └─LayerNorm: 4-11                   1,536\n",
       "│    │    │    └─GPT2MLP: 4-12                     --\n",
       "│    │    │    │    └─Conv1D: 5-21                 2,362,368\n",
       "│    │    │    │    └─Conv1D: 5-22                 2,360,064\n",
       "│    │    │    │    └─NewGELUActivation: 5-23      --\n",
       "│    │    │    │    └─Dropout: 5-24                --\n",
       "│    │    └─GPT2Block: 3-4                         --\n",
       "│    │    │    └─LayerNorm: 4-13                   1,536\n",
       "│    │    │    └─GPT2SdpaAttention: 4-14           --\n",
       "│    │    │    │    └─Conv1D: 5-25                 1,771,776\n",
       "│    │    │    │    └─Conv1D: 5-26                 590,592\n",
       "│    │    │    │    └─Dropout: 5-27                --\n",
       "│    │    │    │    └─Dropout: 5-28                --\n",
       "│    │    │    └─LayerNorm: 4-15                   1,536\n",
       "│    │    │    └─GPT2MLP: 4-16                     --\n",
       "│    │    │    │    └─Conv1D: 5-29                 2,362,368\n",
       "│    │    │    │    └─Conv1D: 5-30                 2,360,064\n",
       "│    │    │    │    └─NewGELUActivation: 5-31      --\n",
       "│    │    │    │    └─Dropout: 5-32                --\n",
       "│    │    └─GPT2Block: 3-5                         --\n",
       "│    │    │    └─LayerNorm: 4-17                   1,536\n",
       "│    │    │    └─GPT2SdpaAttention: 4-18           --\n",
       "│    │    │    │    └─Conv1D: 5-33                 1,771,776\n",
       "│    │    │    │    └─Conv1D: 5-34                 590,592\n",
       "│    │    │    │    └─Dropout: 5-35                --\n",
       "│    │    │    │    └─Dropout: 5-36                --\n",
       "│    │    │    └─LayerNorm: 4-19                   1,536\n",
       "│    │    │    └─GPT2MLP: 4-20                     --\n",
       "│    │    │    │    └─Conv1D: 5-37                 2,362,368\n",
       "│    │    │    │    └─Conv1D: 5-38                 2,360,064\n",
       "│    │    │    │    └─NewGELUActivation: 5-39      --\n",
       "│    │    │    │    └─Dropout: 5-40                --\n",
       "│    │    └─GPT2Block: 3-6                         --\n",
       "│    │    │    └─LayerNorm: 4-21                   1,536\n",
       "│    │    │    └─GPT2SdpaAttention: 4-22           --\n",
       "│    │    │    │    └─Conv1D: 5-41                 1,771,776\n",
       "│    │    │    │    └─Conv1D: 5-42                 590,592\n",
       "│    │    │    │    └─Dropout: 5-43                --\n",
       "│    │    │    │    └─Dropout: 5-44                --\n",
       "│    │    │    └─LayerNorm: 4-23                   1,536\n",
       "│    │    │    └─GPT2MLP: 4-24                     --\n",
       "│    │    │    │    └─Conv1D: 5-45                 2,362,368\n",
       "│    │    │    │    └─Conv1D: 5-46                 2,360,064\n",
       "│    │    │    │    └─NewGELUActivation: 5-47      --\n",
       "│    │    │    │    └─Dropout: 5-48                --\n",
       "│    │    └─GPT2Block: 3-7                         --\n",
       "│    │    │    └─LayerNorm: 4-25                   1,536\n",
       "│    │    │    └─GPT2SdpaAttention: 4-26           --\n",
       "│    │    │    │    └─Conv1D: 5-49                 1,771,776\n",
       "│    │    │    │    └─Conv1D: 5-50                 590,592\n",
       "│    │    │    │    └─Dropout: 5-51                --\n",
       "│    │    │    │    └─Dropout: 5-52                --\n",
       "│    │    │    └─LayerNorm: 4-27                   1,536\n",
       "│    │    │    └─GPT2MLP: 4-28                     --\n",
       "│    │    │    │    └─Conv1D: 5-53                 2,362,368\n",
       "│    │    │    │    └─Conv1D: 5-54                 2,360,064\n",
       "│    │    │    │    └─NewGELUActivation: 5-55      --\n",
       "│    │    │    │    └─Dropout: 5-56                --\n",
       "│    │    └─GPT2Block: 3-8                         --\n",
       "│    │    │    └─LayerNorm: 4-29                   1,536\n",
       "│    │    │    └─GPT2SdpaAttention: 4-30           --\n",
       "│    │    │    │    └─Conv1D: 5-57                 1,771,776\n",
       "│    │    │    │    └─Conv1D: 5-58                 590,592\n",
       "│    │    │    │    └─Dropout: 5-59                --\n",
       "│    │    │    │    └─Dropout: 5-60                --\n",
       "│    │    │    └─LayerNorm: 4-31                   1,536\n",
       "│    │    │    └─GPT2MLP: 4-32                     --\n",
       "│    │    │    │    └─Conv1D: 5-61                 2,362,368\n",
       "│    │    │    │    └─Conv1D: 5-62                 2,360,064\n",
       "│    │    │    │    └─NewGELUActivation: 5-63      --\n",
       "│    │    │    │    └─Dropout: 5-64                --\n",
       "│    │    └─GPT2Block: 3-9                         --\n",
       "│    │    │    └─LayerNorm: 4-33                   1,536\n",
       "│    │    │    └─GPT2SdpaAttention: 4-34           --\n",
       "│    │    │    │    └─Conv1D: 5-65                 1,771,776\n",
       "│    │    │    │    └─Conv1D: 5-66                 590,592\n",
       "│    │    │    │    └─Dropout: 5-67                --\n",
       "│    │    │    │    └─Dropout: 5-68                --\n",
       "│    │    │    └─LayerNorm: 4-35                   1,536\n",
       "│    │    │    └─GPT2MLP: 4-36                     --\n",
       "│    │    │    │    └─Conv1D: 5-69                 2,362,368\n",
       "│    │    │    │    └─Conv1D: 5-70                 2,360,064\n",
       "│    │    │    │    └─NewGELUActivation: 5-71      --\n",
       "│    │    │    │    └─Dropout: 5-72                --\n",
       "│    │    └─GPT2Block: 3-10                        --\n",
       "│    │    │    └─LayerNorm: 4-37                   1,536\n",
       "│    │    │    └─GPT2SdpaAttention: 4-38           --\n",
       "│    │    │    │    └─Conv1D: 5-73                 1,771,776\n",
       "│    │    │    │    └─Conv1D: 5-74                 590,592\n",
       "│    │    │    │    └─Dropout: 5-75                --\n",
       "│    │    │    │    └─Dropout: 5-76                --\n",
       "│    │    │    └─LayerNorm: 4-39                   1,536\n",
       "│    │    │    └─GPT2MLP: 4-40                     --\n",
       "│    │    │    │    └─Conv1D: 5-77                 2,362,368\n",
       "│    │    │    │    └─Conv1D: 5-78                 2,360,064\n",
       "│    │    │    │    └─NewGELUActivation: 5-79      --\n",
       "│    │    │    │    └─Dropout: 5-80                --\n",
       "│    │    └─GPT2Block: 3-11                        --\n",
       "│    │    │    └─LayerNorm: 4-41                   1,536\n",
       "│    │    │    └─GPT2SdpaAttention: 4-42           --\n",
       "│    │    │    │    └─Conv1D: 5-81                 1,771,776\n",
       "│    │    │    │    └─Conv1D: 5-82                 590,592\n",
       "│    │    │    │    └─Dropout: 5-83                --\n",
       "│    │    │    │    └─Dropout: 5-84                --\n",
       "│    │    │    └─LayerNorm: 4-43                   1,536\n",
       "│    │    │    └─GPT2MLP: 4-44                     --\n",
       "│    │    │    │    └─Conv1D: 5-85                 2,362,368\n",
       "│    │    │    │    └─Conv1D: 5-86                 2,360,064\n",
       "│    │    │    │    └─NewGELUActivation: 5-87      --\n",
       "│    │    │    │    └─Dropout: 5-88                --\n",
       "│    │    └─GPT2Block: 3-12                        --\n",
       "│    │    │    └─LayerNorm: 4-45                   1,536\n",
       "│    │    │    └─GPT2SdpaAttention: 4-46           --\n",
       "│    │    │    │    └─Conv1D: 5-89                 1,771,776\n",
       "│    │    │    │    └─Conv1D: 5-90                 590,592\n",
       "│    │    │    │    └─Dropout: 5-91                --\n",
       "│    │    │    │    └─Dropout: 5-92                --\n",
       "│    │    │    └─LayerNorm: 4-47                   1,536\n",
       "│    │    │    └─GPT2MLP: 4-48                     --\n",
       "│    │    │    │    └─Conv1D: 5-93                 2,362,368\n",
       "│    │    │    │    └─Conv1D: 5-94                 2,360,064\n",
       "│    │    │    │    └─NewGELUActivation: 5-95      --\n",
       "│    │    │    │    └─Dropout: 5-96                --\n",
       "│    └─LayerNorm: 2-5                              1,536\n",
       "├─Linear: 1-2                                      2,304\n",
       "===========================================================================\n",
       "Total params: 124,442,112\n",
       "Trainable params: 124,442,112\n",
       "Non-trainable params: 0\n",
       "==========================================================================="
      ]
     },
     "execution_count": 27,
     "metadata": {},
     "output_type": "execute_result"
    }
   ],
   "source": [
    "from torchinfo import summary\n",
    "\n",
    "summary(model, depth=6)"
   ]
  },
  {
   "cell_type": "code",
   "execution_count": 15,
   "metadata": {},
   "outputs": [
    {
     "name": "stderr",
     "output_type": "stream",
     "text": [
      "Some weights of GPT2ForSequenceClassification were not initialized from the model checkpoint at gpt2 and are newly initialized: ['score.weight']\n",
      "You should probably TRAIN this model on a down-stream task to be able to use it for predictions and inference.\n"
     ]
    }
   ],
   "source": [
    "model = GPT2ForSequenceClassification.from_pretrained(\"gpt2\", num_labels=3)\n",
    "combined_model = CombinedModel(model)"
   ]
  },
  {
   "cell_type": "code",
   "execution_count": 17,
   "metadata": {},
   "outputs": [
    {
     "name": "stdout",
     "output_type": "stream",
     "text": [
      "CombinedModel(\n",
      "  (gpt2_model): GPT2ForSequenceClassification(\n",
      "    (transformer): GPT2Model(\n",
      "      (wte): Embedding(50257, 768)\n",
      "      (wpe): Embedding(1024, 768)\n",
      "      (drop): Dropout(p=0.1, inplace=False)\n",
      "      (h): ModuleList(\n",
      "        (0-11): 12 x GPT2Block(\n",
      "          (ln_1): LayerNorm((768,), eps=1e-05, elementwise_affine=True)\n",
      "          (attn): GPT2SdpaAttention(\n",
      "            (c_attn): Conv1D(nf=2304, nx=768)\n",
      "            (c_proj): Conv1D(nf=768, nx=768)\n",
      "            (attn_dropout): Dropout(p=0.1, inplace=False)\n",
      "            (resid_dropout): Dropout(p=0.1, inplace=False)\n",
      "          )\n",
      "          (ln_2): LayerNorm((768,), eps=1e-05, elementwise_affine=True)\n",
      "          (mlp): GPT2MLP(\n",
      "            (c_fc): Conv1D(nf=3072, nx=768)\n",
      "            (c_proj): Conv1D(nf=768, nx=3072)\n",
      "            (act): NewGELUActivation()\n",
      "            (dropout): Dropout(p=0.1, inplace=False)\n",
      "          )\n",
      "        )\n",
      "      )\n",
      "      (ln_f): LayerNorm((768,), eps=1e-05, elementwise_affine=True)\n",
      "    )\n",
      "    (score): Linear(in_features=768, out_features=3, bias=False)\n",
      "  )\n",
      ")\n"
     ]
    }
   ],
   "source": [
    "print(combined_model)"
   ]
  },
  {
   "cell_type": "code",
   "execution_count": 20,
   "metadata": {},
   "outputs": [
    {
     "name": "stderr",
     "output_type": "stream",
     "text": [
      "/root/miniconda3/envs/my-env/lib/python3.9/site-packages/transformers/training_args.py:1545: FutureWarning: `evaluation_strategy` is deprecated and will be removed in version 4.46 of 🤗 Transformers. Use `eval_strategy` instead\n",
      "  warnings.warn(\n"
     ]
    }
   ],
   "source": [
    "from transformers import TrainingArguments, Trainer\n",
    "\n",
    "training_args = TrainingArguments(\n",
    "   output_dir=\"test_trainer3\",\n",
    "   evaluation_strategy=\"epoch\",\n",
    "   per_device_train_batch_size=1,\n",
    "   per_device_eval_batch_size=1,\n",
    "   gradient_accumulation_steps=10\n",
    "   )\n",
    "\n",
    "\n",
    "trainer = Trainer(\n",
    "   model=combined_model,\n",
    "   args=training_args,\n",
    "   train_dataset=small_train_dataset,\n",
    "   eval_dataset=small_eval_dataset,\n",
    ")"
   ]
  },
  {
   "cell_type": "code",
   "execution_count": 21,
   "metadata": {},
   "outputs": [
    {
     "data": {
      "text/html": [
       "\n",
       "    <div>\n",
       "      \n",
       "      <progress value='300' max='300' style='width:300px; height:20px; vertical-align: middle;'></progress>\n",
       "      [300/300 05:05, Epoch 3/3]\n",
       "    </div>\n",
       "    <table border=\"1\" class=\"dataframe\">\n",
       "  <thead>\n",
       " <tr style=\"text-align: left;\">\n",
       "      <th>Epoch</th>\n",
       "      <th>Training Loss</th>\n",
       "      <th>Validation Loss</th>\n",
       "    </tr>\n",
       "  </thead>\n",
       "  <tbody>\n",
       "    <tr>\n",
       "      <td>1</td>\n",
       "      <td>No log</td>\n",
       "      <td>0.930751</td>\n",
       "    </tr>\n",
       "    <tr>\n",
       "      <td>2</td>\n",
       "      <td>No log</td>\n",
       "      <td>0.738174</td>\n",
       "    </tr>\n",
       "    <tr>\n",
       "      <td>3</td>\n",
       "      <td>No log</td>\n",
       "      <td>0.684408</td>\n",
       "    </tr>\n",
       "  </tbody>\n",
       "</table><p>"
      ],
      "text/plain": [
       "<IPython.core.display.HTML object>"
      ]
     },
     "metadata": {},
     "output_type": "display_data"
    },
    {
     "data": {
      "text/plain": [
       "TrainOutput(global_step=300, training_loss=0.7629056803385417, metrics={'train_runtime': 307.6741, 'train_samples_per_second': 9.751, 'train_steps_per_second': 0.975, 'total_flos': 0.0, 'train_loss': 0.7629056803385417, 'epoch': 3.0})"
      ]
     },
     "execution_count": 21,
     "metadata": {},
     "output_type": "execute_result"
    }
   ],
   "source": [
    "trainer.train()"
   ]
  },
  {
   "cell_type": "code",
   "execution_count": 22,
   "metadata": {},
   "outputs": [
    {
     "data": {
      "text/html": [
       "\n",
       "    <div>\n",
       "      \n",
       "      <progress value='1000' max='1000' style='width:300px; height:20px; vertical-align: middle;'></progress>\n",
       "      [1000/1000 00:24]\n",
       "    </div>\n",
       "    "
      ],
      "text/plain": [
       "<IPython.core.display.HTML object>"
      ]
     },
     "metadata": {},
     "output_type": "display_data"
    },
    {
     "data": {
      "text/plain": [
       "{'eval_loss': 0.6844080686569214,\n",
       " 'eval_runtime': 24.6387,\n",
       " 'eval_samples_per_second': 40.587,\n",
       " 'eval_steps_per_second': 40.587,\n",
       " 'epoch': 3.0}"
      ]
     },
     "execution_count": 22,
     "metadata": {},
     "output_type": "execute_result"
    }
   ],
   "source": [
    "import evaluate\n",
    "\n",
    "trainer.evaluate()"
   ]
  },
  {
   "cell_type": "code",
   "execution_count": null,
   "metadata": {},
   "outputs": [],
   "source": []
  }
 ],
 "metadata": {
  "kernelspec": {
   "display_name": "my-env",
   "language": "python",
   "name": "python3"
  },
  "language_info": {
   "codemirror_mode": {
    "name": "ipython",
    "version": 3
   },
   "file_extension": ".py",
   "mimetype": "text/x-python",
   "name": "python",
   "nbconvert_exporter": "python",
   "pygments_lexer": "ipython3",
   "version": "3.9.20"
  }
 },
 "nbformat": 4,
 "nbformat_minor": 2
}
