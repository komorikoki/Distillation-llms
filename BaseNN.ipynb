{
 "cells": [
  {
   "cell_type": "code",
   "execution_count": 1,
   "metadata": {},
   "outputs": [],
   "source": [
    "import torch\n",
    "import torch.nn as nn\n",
    "import torch.optim as optim\n",
    "from torch.utils.data import DataLoader, TensorDataset\n",
    "\n",
    "# 例として、ランダムなデータを作成します。\n",
    "X = torch.randn(100, 768)  # 100サンプルの768次元データ\n",
    "y = torch.randint(0, 2, (100,))  # 2クラスのラベル\n",
    "\n",
    "# データセットとデータローダーを作成\n",
    "dataset = TensorDataset(X, y)\n",
    "dataloader = DataLoader(dataset, batch_size=10, shuffle=True)"
   ]
  },
  {
   "cell_type": "code",
   "execution_count": 29,
   "metadata": {},
   "outputs": [],
   "source": [
    "class FeatureExtractor(nn.Module):\n",
    "    def __init__(self):\n",
    "        super(FeatureExtractor, self).__init__()\n",
    "        self.fc1 = nn.Linear(768, 100)\n",
    "        self.fc2 = nn.Linear(100, 10)\n",
    "        self.fc3 = nn.Flatten(0, -1)\n",
    "        self.fc3 = nn.Linear(10, 1)\n",
    "\n",
    "    def forward(self, x):\n",
    "        x=self.fc1(x)\n",
    "        x=self.fc2(x)\n",
    "        x=self.fc3(x)\n",
    "        return x"
   ]
  },
  {
   "cell_type": "code",
   "execution_count": 30,
   "metadata": {},
   "outputs": [],
   "source": [
    "# モデルの初期化\n",
    "model = FeatureExtractor()\n",
    "\n",
    "# 最適化器の設定（例: Adamオプティマイザ）\n",
    "optimizer = optim.Adam(model.parameters(), lr=0.001)\n",
    "\n",
    "# 損失関数の設定（例: バイナリークロスエントロピー）\n",
    "criterion = nn.BCEWithLogitsLoss()"
   ]
  },
  {
   "cell_type": "code",
   "execution_count": 31,
   "metadata": {},
   "outputs": [
    {
     "name": "stdout",
     "output_type": "stream",
     "text": [
      "Epoch [1/10], Loss: 0.6276\n",
      "Epoch [2/10], Loss: 0.3882\n",
      "Epoch [3/10], Loss: 0.1361\n",
      "Epoch [4/10], Loss: 0.0392\n",
      "Epoch [5/10], Loss: 0.0094\n",
      "Epoch [6/10], Loss: 0.0043\n",
      "Epoch [7/10], Loss: 0.0022\n",
      "Epoch [8/10], Loss: 0.0023\n",
      "Epoch [9/10], Loss: 0.0022\n",
      "Epoch [10/10], Loss: 0.0012\n"
     ]
    }
   ],
   "source": [
    "num_epochs = 10  # エポック数\n",
    "\n",
    "for epoch in range(num_epochs):\n",
    "    for inputs, labels in dataloader:\n",
    "        # 勾配の初期化\n",
    "        optimizer.zero_grad()\n",
    "\n",
    "        # フォワードパス\n",
    "        outputs = model(inputs)\n",
    "\n",
    "        # 損失の計算\n",
    "        loss = criterion(outputs.squeeze(), labels.float())\n",
    "\n",
    "        # バックワードパスと最適化\n",
    "        loss.backward()\n",
    "        optimizer.step()\n",
    "\n",
    "    print(f\"Epoch [{epoch+1}/{num_epochs}], Loss: {loss.item():.4f}\")"
   ]
  },
  {
   "cell_type": "code",
   "execution_count": null,
   "metadata": {},
   "outputs": [],
   "source": []
  }
 ],
 "metadata": {
  "kernelspec": {
   "display_name": "my-env",
   "language": "python",
   "name": "python3"
  },
  "language_info": {
   "codemirror_mode": {
    "name": "ipython",
    "version": 3
   },
   "file_extension": ".py",
   "mimetype": "text/x-python",
   "name": "python",
   "nbconvert_exporter": "python",
   "pygments_lexer": "ipython3",
   "version": "3.9.20"
  }
 },
 "nbformat": 4,
 "nbformat_minor": 2
}
