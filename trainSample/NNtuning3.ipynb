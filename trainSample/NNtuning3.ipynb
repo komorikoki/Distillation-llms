{
 "cells": [
  {
   "cell_type": "code",
   "execution_count": 27,
   "metadata": {},
   "outputs": [],
   "source": [
    "import torch\n",
    "from torch import nn\n",
    "from datasets import load_dataset\n",
    "\n",
    "dataset = load_dataset(\"mteb/tweet_sentiment_extraction\")"
   ]
  },
  {
   "cell_type": "code",
   "execution_count": 28,
   "metadata": {},
   "outputs": [],
   "source": [
    "from transformers import GPT2Tokenizer, GPT2ForSequenceClassification, Trainer, TrainingArguments\n",
    "tokenizer = GPT2Tokenizer.from_pretrained(\"gpt2\")\n",
    "tokenizer.pad_token = tokenizer.eos_token"
   ]
  },
  {
   "cell_type": "code",
   "execution_count": 29,
   "metadata": {},
   "outputs": [],
   "source": [
    "def tokenize_function(examples):\n",
    "    return tokenizer(examples[\"text\"], padding=\"max_length\", truncation=True)\n",
    "\n",
    "tokenized_datasets = dataset.map(tokenize_function, batched=True)"
   ]
  },
  {
   "cell_type": "code",
   "execution_count": 30,
   "metadata": {},
   "outputs": [],
   "source": [
    "small_train_dataset = tokenized_datasets[\"train\"].shuffle(seed=42).select(range(1000))\n",
    "small_eval_dataset = tokenized_datasets[\"test\"].shuffle(seed=42).select(range(1000))"
   ]
  },
  {
   "cell_type": "code",
   "execution_count": 125,
   "metadata": {},
   "outputs": [
    {
     "data": {
      "text/plain": [
       "===========================================================================\n",
       "Layer (type:depth-idx)                             Param #\n",
       "===========================================================================\n",
       "CustomGPT2ForSequenceClassification                --\n",
       "├─CustomGPT2Model: 1-1                             --\n",
       "│    └─Embedding: 2-1                              38,597,376\n",
       "│    └─Embedding: 2-2                              786,432\n",
       "│    └─Dropout: 2-3                                --\n",
       "│    └─ModuleList: 2-4                             --\n",
       "│    │    └─GPT2Block: 3-1                         --\n",
       "│    │    │    └─LayerNorm: 4-1                    1,536\n",
       "│    │    │    └─CustomAttention: 4-2              --\n",
       "│    │    │    │    └─GPT2SdpaAttention: 5-1       --\n",
       "│    │    │    │    │    └─Conv1D: 6-1             1,771,776\n",
       "│    │    │    │    │    └─Conv1D: 6-2             590,592\n",
       "│    │    │    │    │    └─Dropout: 6-3            --\n",
       "│    │    │    │    │    └─Dropout: 6-4            --\n",
       "│    │    │    │    └─Linear: 5-2                  590,592\n",
       "│    │    │    └─LayerNorm: 4-3                    1,536\n",
       "│    │    │    └─GPT2MLP: 4-4                      --\n",
       "│    │    │    │    └─Conv1D: 5-3                  2,362,368\n",
       "│    │    │    │    └─Conv1D: 5-4                  2,360,064\n",
       "│    │    │    │    └─NewGELUActivation: 5-5       --\n",
       "│    │    │    │    └─Dropout: 5-6                 --\n",
       "│    │    └─GPT2Block: 3-2                         --\n",
       "│    │    │    └─LayerNorm: 4-5                    1,536\n",
       "│    │    │    └─CustomAttention: 4-6              --\n",
       "│    │    │    │    └─GPT2SdpaAttention: 5-7       --\n",
       "│    │    │    │    │    └─Conv1D: 6-5             1,771,776\n",
       "│    │    │    │    │    └─Conv1D: 6-6             590,592\n",
       "│    │    │    │    │    └─Dropout: 6-7            --\n",
       "│    │    │    │    │    └─Dropout: 6-8            --\n",
       "│    │    │    │    └─Linear: 5-8                  590,592\n",
       "│    │    │    └─LayerNorm: 4-7                    1,536\n",
       "│    │    │    └─GPT2MLP: 4-8                      --\n",
       "│    │    │    │    └─Conv1D: 5-9                  2,362,368\n",
       "│    │    │    │    └─Conv1D: 5-10                 2,360,064\n",
       "│    │    │    │    └─NewGELUActivation: 5-11      --\n",
       "│    │    │    │    └─Dropout: 5-12                --\n",
       "│    │    └─GPT2Block: 3-3                         --\n",
       "│    │    │    └─LayerNorm: 4-9                    1,536\n",
       "│    │    │    └─CustomAttention: 4-10             --\n",
       "│    │    │    │    └─GPT2SdpaAttention: 5-13      --\n",
       "│    │    │    │    │    └─Conv1D: 6-9             1,771,776\n",
       "│    │    │    │    │    └─Conv1D: 6-10            590,592\n",
       "│    │    │    │    │    └─Dropout: 6-11           --\n",
       "│    │    │    │    │    └─Dropout: 6-12           --\n",
       "│    │    │    │    └─Linear: 5-14                 590,592\n",
       "│    │    │    └─LayerNorm: 4-11                   1,536\n",
       "│    │    │    └─GPT2MLP: 4-12                     --\n",
       "│    │    │    │    └─Conv1D: 5-15                 2,362,368\n",
       "│    │    │    │    └─Conv1D: 5-16                 2,360,064\n",
       "│    │    │    │    └─NewGELUActivation: 5-17      --\n",
       "│    │    │    │    └─Dropout: 5-18                --\n",
       "│    │    └─GPT2Block: 3-4                         --\n",
       "│    │    │    └─LayerNorm: 4-13                   1,536\n",
       "│    │    │    └─CustomAttention: 4-14             --\n",
       "│    │    │    │    └─GPT2SdpaAttention: 5-19      --\n",
       "│    │    │    │    │    └─Conv1D: 6-13            1,771,776\n",
       "│    │    │    │    │    └─Conv1D: 6-14            590,592\n",
       "│    │    │    │    │    └─Dropout: 6-15           --\n",
       "│    │    │    │    │    └─Dropout: 6-16           --\n",
       "│    │    │    │    └─Linear: 5-20                 590,592\n",
       "│    │    │    └─LayerNorm: 4-15                   1,536\n",
       "│    │    │    └─GPT2MLP: 4-16                     --\n",
       "│    │    │    │    └─Conv1D: 5-21                 2,362,368\n",
       "│    │    │    │    └─Conv1D: 5-22                 2,360,064\n",
       "│    │    │    │    └─NewGELUActivation: 5-23      --\n",
       "│    │    │    │    └─Dropout: 5-24                --\n",
       "│    │    └─GPT2Block: 3-5                         --\n",
       "│    │    │    └─LayerNorm: 4-17                   1,536\n",
       "│    │    │    └─CustomAttention: 4-18             --\n",
       "│    │    │    │    └─GPT2SdpaAttention: 5-25      --\n",
       "│    │    │    │    │    └─Conv1D: 6-17            1,771,776\n",
       "│    │    │    │    │    └─Conv1D: 6-18            590,592\n",
       "│    │    │    │    │    └─Dropout: 6-19           --\n",
       "│    │    │    │    │    └─Dropout: 6-20           --\n",
       "│    │    │    │    └─Linear: 5-26                 590,592\n",
       "│    │    │    └─LayerNorm: 4-19                   1,536\n",
       "│    │    │    └─GPT2MLP: 4-20                     --\n",
       "│    │    │    │    └─Conv1D: 5-27                 2,362,368\n",
       "│    │    │    │    └─Conv1D: 5-28                 2,360,064\n",
       "│    │    │    │    └─NewGELUActivation: 5-29      --\n",
       "│    │    │    │    └─Dropout: 5-30                --\n",
       "│    │    └─GPT2Block: 3-6                         --\n",
       "│    │    │    └─LayerNorm: 4-21                   1,536\n",
       "│    │    │    └─CustomAttention: 4-22             --\n",
       "│    │    │    │    └─GPT2SdpaAttention: 5-31      --\n",
       "│    │    │    │    │    └─Conv1D: 6-21            1,771,776\n",
       "│    │    │    │    │    └─Conv1D: 6-22            590,592\n",
       "│    │    │    │    │    └─Dropout: 6-23           --\n",
       "│    │    │    │    │    └─Dropout: 6-24           --\n",
       "│    │    │    │    └─Linear: 5-32                 590,592\n",
       "│    │    │    └─LayerNorm: 4-23                   1,536\n",
       "│    │    │    └─GPT2MLP: 4-24                     --\n",
       "│    │    │    │    └─Conv1D: 5-33                 2,362,368\n",
       "│    │    │    │    └─Conv1D: 5-34                 2,360,064\n",
       "│    │    │    │    └─NewGELUActivation: 5-35      --\n",
       "│    │    │    │    └─Dropout: 5-36                --\n",
       "│    │    └─GPT2Block: 3-7                         --\n",
       "│    │    │    └─LayerNorm: 4-25                   1,536\n",
       "│    │    │    └─CustomAttention: 4-26             --\n",
       "│    │    │    │    └─GPT2SdpaAttention: 5-37      --\n",
       "│    │    │    │    │    └─Conv1D: 6-25            1,771,776\n",
       "│    │    │    │    │    └─Conv1D: 6-26            590,592\n",
       "│    │    │    │    │    └─Dropout: 6-27           --\n",
       "│    │    │    │    │    └─Dropout: 6-28           --\n",
       "│    │    │    │    └─Linear: 5-38                 590,592\n",
       "│    │    │    └─LayerNorm: 4-27                   1,536\n",
       "│    │    │    └─GPT2MLP: 4-28                     --\n",
       "│    │    │    │    └─Conv1D: 5-39                 2,362,368\n",
       "│    │    │    │    └─Conv1D: 5-40                 2,360,064\n",
       "│    │    │    │    └─NewGELUActivation: 5-41      --\n",
       "│    │    │    │    └─Dropout: 5-42                --\n",
       "│    │    └─GPT2Block: 3-8                         --\n",
       "│    │    │    └─LayerNorm: 4-29                   1,536\n",
       "│    │    │    └─CustomAttention: 4-30             --\n",
       "│    │    │    │    └─GPT2SdpaAttention: 5-43      --\n",
       "│    │    │    │    │    └─Conv1D: 6-29            1,771,776\n",
       "│    │    │    │    │    └─Conv1D: 6-30            590,592\n",
       "│    │    │    │    │    └─Dropout: 6-31           --\n",
       "│    │    │    │    │    └─Dropout: 6-32           --\n",
       "│    │    │    │    └─Linear: 5-44                 590,592\n",
       "│    │    │    └─LayerNorm: 4-31                   1,536\n",
       "│    │    │    └─GPT2MLP: 4-32                     --\n",
       "│    │    │    │    └─Conv1D: 5-45                 2,362,368\n",
       "│    │    │    │    └─Conv1D: 5-46                 2,360,064\n",
       "│    │    │    │    └─NewGELUActivation: 5-47      --\n",
       "│    │    │    │    └─Dropout: 5-48                --\n",
       "│    │    └─GPT2Block: 3-9                         --\n",
       "│    │    │    └─LayerNorm: 4-33                   1,536\n",
       "│    │    │    └─CustomAttention: 4-34             --\n",
       "│    │    │    │    └─GPT2SdpaAttention: 5-49      --\n",
       "│    │    │    │    │    └─Conv1D: 6-33            1,771,776\n",
       "│    │    │    │    │    └─Conv1D: 6-34            590,592\n",
       "│    │    │    │    │    └─Dropout: 6-35           --\n",
       "│    │    │    │    │    └─Dropout: 6-36           --\n",
       "│    │    │    │    └─Linear: 5-50                 590,592\n",
       "│    │    │    └─LayerNorm: 4-35                   1,536\n",
       "│    │    │    └─GPT2MLP: 4-36                     --\n",
       "│    │    │    │    └─Conv1D: 5-51                 2,362,368\n",
       "│    │    │    │    └─Conv1D: 5-52                 2,360,064\n",
       "│    │    │    │    └─NewGELUActivation: 5-53      --\n",
       "│    │    │    │    └─Dropout: 5-54                --\n",
       "│    │    └─GPT2Block: 3-10                        --\n",
       "│    │    │    └─LayerNorm: 4-37                   1,536\n",
       "│    │    │    └─CustomAttention: 4-38             --\n",
       "│    │    │    │    └─GPT2SdpaAttention: 5-55      --\n",
       "│    │    │    │    │    └─Conv1D: 6-37            1,771,776\n",
       "│    │    │    │    │    └─Conv1D: 6-38            590,592\n",
       "│    │    │    │    │    └─Dropout: 6-39           --\n",
       "│    │    │    │    │    └─Dropout: 6-40           --\n",
       "│    │    │    │    └─Linear: 5-56                 590,592\n",
       "│    │    │    └─LayerNorm: 4-39                   1,536\n",
       "│    │    │    └─GPT2MLP: 4-40                     --\n",
       "│    │    │    │    └─Conv1D: 5-57                 2,362,368\n",
       "│    │    │    │    └─Conv1D: 5-58                 2,360,064\n",
       "│    │    │    │    └─NewGELUActivation: 5-59      --\n",
       "│    │    │    │    └─Dropout: 5-60                --\n",
       "│    │    └─GPT2Block: 3-11                        --\n",
       "│    │    │    └─LayerNorm: 4-41                   1,536\n",
       "│    │    │    └─CustomAttention: 4-42             --\n",
       "│    │    │    │    └─GPT2SdpaAttention: 5-61      --\n",
       "│    │    │    │    │    └─Conv1D: 6-41            1,771,776\n",
       "│    │    │    │    │    └─Conv1D: 6-42            590,592\n",
       "│    │    │    │    │    └─Dropout: 6-43           --\n",
       "│    │    │    │    │    └─Dropout: 6-44           --\n",
       "│    │    │    │    └─Linear: 5-62                 590,592\n",
       "│    │    │    └─LayerNorm: 4-43                   1,536\n",
       "│    │    │    └─GPT2MLP: 4-44                     --\n",
       "│    │    │    │    └─Conv1D: 5-63                 2,362,368\n",
       "│    │    │    │    └─Conv1D: 5-64                 2,360,064\n",
       "│    │    │    │    └─NewGELUActivation: 5-65      --\n",
       "│    │    │    │    └─Dropout: 5-66                --\n",
       "│    │    └─GPT2Block: 3-12                        --\n",
       "│    │    │    └─LayerNorm: 4-45                   1,536\n",
       "│    │    │    └─CustomAttention: 4-46             --\n",
       "│    │    │    │    └─GPT2SdpaAttention: 5-67      --\n",
       "│    │    │    │    │    └─Conv1D: 6-45            1,771,776\n",
       "│    │    │    │    │    └─Conv1D: 6-46            590,592\n",
       "│    │    │    │    │    └─Dropout: 6-47           --\n",
       "│    │    │    │    │    └─Dropout: 6-48           --\n",
       "│    │    │    │    └─Linear: 5-68                 590,592\n",
       "│    │    │    └─LayerNorm: 4-47                   1,536\n",
       "│    │    │    └─GPT2MLP: 4-48                     --\n",
       "│    │    │    │    └─Conv1D: 5-69                 2,362,368\n",
       "│    │    │    │    └─Conv1D: 5-70                 2,360,064\n",
       "│    │    │    │    └─NewGELUActivation: 5-71      --\n",
       "│    │    │    │    └─Dropout: 5-72                --\n",
       "│    └─LayerNorm: 2-5                              1,536\n",
       "├─Linear: 1-2                                      2,307\n",
       "===========================================================================\n",
       "Total params: 131,529,219\n",
       "Trainable params: 131,529,219\n",
       "Non-trainable params: 0\n",
       "==========================================================================="
      ]
     },
     "execution_count": 125,
     "metadata": {},
     "output_type": "execute_result"
    }
   ],
   "source": [
    "from torchinfo import summary\n",
    "\n",
    "summary(custom_model, depth=6)"
   ]
  },
  {
   "cell_type": "code",
   "execution_count": 138,
   "metadata": {},
   "outputs": [],
   "source": [
    "from transformers import GPT2Model, GPT2Config, GPT2LMHeadModel\n",
    "\n",
    "class CustomAttention(nn.Module):\n",
    "    def __init__(self, original_attention):\n",
    "        super().__init__()\n",
    "        self.original_attention = original_attention\n",
    "        \n",
    "        # Linear層を追加\n",
    "        self.linear = nn.Linear(original_attention.embed_dim, original_attention.embed_dim)\n",
    "\n",
    "    def forward(self, hidden_states, attention_mask=None, layer_past=None, head_mask=None, use_cache=None, output_attentions=None, ):\n",
    "        # Linear層を適用\n",
    "        linear_output = self.linear(hidden_states)\n",
    "\n",
    "        # 元のAttentionの処理を呼び出す\n",
    "        return self.original_attention(linear_output, attention_mask=attention_mask, layer_past=layer_past)\n",
    "\n",
    "class CustomGPT2Model(GPT2Model):\n",
    "    def __init__(self, config):\n",
    "        super().__init__(config)\n",
    "        \n",
    "        # 各ブロックのAttentionをカスタマイズ\n",
    "        for i, block in enumerate(self.h):  # self.hに直接アクセス\n",
    "            block.attn = CustomAttention(block.attn)\n",
    "    \n",
    "\n",
    "class CustomGPT2ForSequenceClassification(GPT2LMHeadModel):\n",
    "    def __init__(self, config, num_labels):\n",
    "        super().__init__(config)\n",
    "        self.num_labels = num_labels\n",
    "        self.transformer = CustomGPT2Model(config)  # CustomGPT2Modelを初期化\n",
    "        self.lm_head = nn.Linear(config.n_embd, num_labels)\n",
    "\n",
    "    def forward(self, input_ids, attention_mask=None, labels=None):\n",
    "        outputs = self.transformer(input_ids, attention_mask=attention_mask)\n",
    "        \n",
    "        # 最後の隠れ層の出力を取得\n",
    "        hidden_states = outputs.last_hidden_state[:, -1, :]\n",
    "        \n",
    "        \n",
    "        # ロジットを計算\n",
    "        logits = self.lm_head(hidden_states)\n",
    "        loss = None\n",
    "        if labels is not None:\n",
    "            loss_fct = nn.CrossEntropyLoss()\n",
    "            loss = loss_fct(logits.view(-1, self.num_labels), labels.view(-1))\n",
    "        else:\n",
    "            print(\"label is not exist\")\n",
    "        return (loss, logits) if loss is not None else logits\n",
    "\n",
    "# モデルの初期化\n",
    "config = GPT2Config.from_pretrained(\"gpt2\", num_labels=3)\n",
    "custom_model = CustomGPT2ForSequenceClassification(config, num_labels=3)"
   ]
  },
  {
   "cell_type": "code",
   "execution_count": 139,
   "metadata": {},
   "outputs": [
    {
     "name": "stderr",
     "output_type": "stream",
     "text": [
      "/root/miniconda3/envs/my-env/lib/python3.9/site-packages/transformers/training_args.py:1545: FutureWarning: `evaluation_strategy` is deprecated and will be removed in version 4.46 of 🤗 Transformers. Use `eval_strategy` instead\n",
      "  warnings.warn(\n"
     ]
    }
   ],
   "source": [
    "from transformers import TrainingArguments, Trainer\n",
    "\n",
    "training_args = TrainingArguments(\n",
    "   output_dir=\"test_trainer3\",\n",
    "   evaluation_strategy=\"epoch\",\n",
    "   per_device_train_batch_size=1,\n",
    "   per_device_eval_batch_size=1,\n",
    "   gradient_accumulation_steps=10\n",
    "   )\n",
    "\n",
    "\n",
    "trainer = Trainer(\n",
    "   model=custom_model,\n",
    "   args=training_args,\n",
    "   train_dataset=small_train_dataset,\n",
    "   eval_dataset=small_eval_dataset,\n",
    ")"
   ]
  },
  {
   "cell_type": "code",
   "execution_count": null,
   "metadata": {},
   "outputs": [],
   "source": []
  },
  {
   "cell_type": "code",
   "execution_count": 140,
   "metadata": {},
   "outputs": [
    {
     "data": {
      "text/html": [
       "\n",
       "    <div>\n",
       "      \n",
       "      <progress value='300' max='300' style='width:300px; height:20px; vertical-align: middle;'></progress>\n",
       "      [300/300 05:53, Epoch 3/3]\n",
       "    </div>\n",
       "    <table border=\"1\" class=\"dataframe\">\n",
       "  <thead>\n",
       " <tr style=\"text-align: left;\">\n",
       "      <th>Epoch</th>\n",
       "      <th>Training Loss</th>\n",
       "      <th>Validation Loss</th>\n",
       "    </tr>\n",
       "  </thead>\n",
       "  <tbody>\n",
       "    <tr>\n",
       "      <td>1</td>\n",
       "      <td>No log</td>\n",
       "      <td>1.092940</td>\n",
       "    </tr>\n",
       "    <tr>\n",
       "      <td>2</td>\n",
       "      <td>No log</td>\n",
       "      <td>1.072426</td>\n",
       "    </tr>\n",
       "    <tr>\n",
       "      <td>3</td>\n",
       "      <td>No log</td>\n",
       "      <td>1.136135</td>\n",
       "    </tr>\n",
       "  </tbody>\n",
       "</table><p>"
      ],
      "text/plain": [
       "<IPython.core.display.HTML object>"
      ]
     },
     "metadata": {},
     "output_type": "display_data"
    },
    {
     "data": {
      "text/plain": [
       "TrainOutput(global_step=300, training_loss=1.05141357421875, metrics={'train_runtime': 354.246, 'train_samples_per_second': 8.469, 'train_steps_per_second': 0.847, 'total_flos': 1698424215552000.0, 'train_loss': 1.05141357421875, 'epoch': 3.0})"
      ]
     },
     "execution_count": 140,
     "metadata": {},
     "output_type": "execute_result"
    }
   ],
   "source": [
    "trainer.train()"
   ]
  },
  {
   "cell_type": "code",
   "execution_count": null,
   "metadata": {},
   "outputs": [],
   "source": [
    "trainer.train()"
   ]
  },
  {
   "cell_type": "code",
   "execution_count": 141,
   "metadata": {},
   "outputs": [
    {
     "data": {
      "text/html": [
       "\n",
       "    <div>\n",
       "      \n",
       "      <progress value='1000' max='1000' style='width:300px; height:20px; vertical-align: middle;'></progress>\n",
       "      [1000/1000 00:28]\n",
       "    </div>\n",
       "    "
      ],
      "text/plain": [
       "<IPython.core.display.HTML object>"
      ]
     },
     "metadata": {},
     "output_type": "display_data"
    },
    {
     "data": {
      "text/plain": [
       "{'eval_loss': 1.1361347436904907,\n",
       " 'eval_runtime': 28.3736,\n",
       " 'eval_samples_per_second': 35.244,\n",
       " 'eval_steps_per_second': 35.244,\n",
       " 'epoch': 3.0}"
      ]
     },
     "execution_count": 141,
     "metadata": {},
     "output_type": "execute_result"
    }
   ],
   "source": [
    "import evaluate\n",
    "\n",
    "trainer.evaluate()"
   ]
  },
  {
   "cell_type": "code",
   "execution_count": null,
   "metadata": {},
   "outputs": [],
   "source": []
  }
 ],
 "metadata": {
  "kernelspec": {
   "display_name": "my-env",
   "language": "python",
   "name": "python3"
  },
  "language_info": {
   "codemirror_mode": {
    "name": "ipython",
    "version": 3
   },
   "file_extension": ".py",
   "mimetype": "text/x-python",
   "name": "python",
   "nbconvert_exporter": "python",
   "pygments_lexer": "ipython3",
   "version": "3.9.20"
  }
 },
 "nbformat": 4,
 "nbformat_minor": 2
}
