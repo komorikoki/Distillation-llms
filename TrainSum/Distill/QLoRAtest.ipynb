{
 "cells": [
  {
   "cell_type": "code",
   "execution_count": 16,
   "metadata": {},
   "outputs": [],
   "source": [
    "from transformers import AutoModelForCausalLM, BitsAndBytesConfig\n",
    "\n",
    "quantization_config = BitsAndBytesConfig(load_in_4bit=True)\n",
    "\n",
    "model = AutoModelForCausalLM.from_pretrained(\n",
    "    \"./model/normal_model\",\n",
    "    quantization_config=quantization_config\n",
    ")\n",
    "\n",
    "from peft import get_peft_model, LoraConfig\n",
    "lora_config = LoraConfig(\n",
    "    r=8,  # 低ランクアダプターのランク\n",
    "    lora_alpha=32,  # アダプターのスケール\n",
    "    lora_dropout=0.1,  # ドロップアウト率\n",
    ")\n",
    "\n",
    "model = get_peft_model(model, lora_config)"
   ]
  },
  {
   "cell_type": "code",
   "execution_count": 7,
   "metadata": {},
   "outputs": [],
   "source": [
    "from transformers import AutoModelForCausalLM, Trainer, TrainingArguments, AutoTokenizer\n",
    "import re\n",
    "from tqdm import tqdm\n",
    "import torch\n",
    "from torch.nn import functional as F\n",
    "from torch.optim import AdamW\n",
    "import matplotlib.pyplot as plt\n",
    "from torch import nn\n",
    "\n",
    "device='cuda'\n",
    "# モデルの準備\n",
    "model = AutoModelForCausalLM.from_pretrained(\"../model/QLoRA_distill_model\")\n",
    "tokenizer = AutoTokenizer.from_pretrained(\"meta-llama/Llama-3.2-1B\")"
   ]
  },
  {
   "cell_type": "code",
   "execution_count": 8,
   "metadata": {},
   "outputs": [
    {
     "name": "stdout",
     "output_type": "stream",
     "text": [
      "model.embed_tokens.weight: requires_grad=False\n",
      "model.layers.0.self_attn.q_proj.base_layer.weight: requires_grad=False\n",
      "model.layers.0.self_attn.q_proj.lora_A.default.weight: requires_grad=False\n",
      "model.layers.0.self_attn.q_proj.lora_B.default.weight: requires_grad=False\n",
      "model.layers.0.self_attn.k_proj.weight: requires_grad=False\n",
      "model.layers.0.self_attn.v_proj.base_layer.weight: requires_grad=False\n",
      "model.layers.0.self_attn.v_proj.lora_A.default.weight: requires_grad=False\n",
      "model.layers.0.self_attn.v_proj.lora_B.default.weight: requires_grad=False\n",
      "model.layers.0.self_attn.o_proj.weight: requires_grad=False\n",
      "model.layers.0.mlp.gate_proj.weight: requires_grad=False\n",
      "model.layers.0.mlp.up_proj.weight: requires_grad=False\n",
      "model.layers.0.mlp.down_proj.weight: requires_grad=False\n",
      "model.layers.0.input_layernorm.weight: requires_grad=False\n",
      "model.layers.0.post_attention_layernorm.weight: requires_grad=False\n",
      "model.layers.1.self_attn.q_proj.base_layer.weight: requires_grad=False\n",
      "model.layers.1.self_attn.q_proj.lora_A.default.weight: requires_grad=False\n",
      "model.layers.1.self_attn.q_proj.lora_B.default.weight: requires_grad=False\n",
      "model.layers.1.self_attn.k_proj.weight: requires_grad=False\n",
      "model.layers.1.self_attn.v_proj.base_layer.weight: requires_grad=False\n",
      "model.layers.1.self_attn.v_proj.lora_A.default.weight: requires_grad=False\n",
      "model.layers.1.self_attn.v_proj.lora_B.default.weight: requires_grad=False\n",
      "model.layers.1.self_attn.o_proj.weight: requires_grad=False\n",
      "model.layers.1.mlp.gate_proj.weight: requires_grad=False\n",
      "model.layers.1.mlp.up_proj.weight: requires_grad=False\n",
      "model.layers.1.mlp.down_proj.weight: requires_grad=False\n",
      "model.layers.1.input_layernorm.weight: requires_grad=False\n",
      "model.layers.1.post_attention_layernorm.weight: requires_grad=False\n",
      "model.layers.2.self_attn.q_proj.base_layer.weight: requires_grad=False\n",
      "model.layers.2.self_attn.q_proj.lora_A.default.weight: requires_grad=False\n",
      "model.layers.2.self_attn.q_proj.lora_B.default.weight: requires_grad=False\n",
      "model.layers.2.self_attn.k_proj.weight: requires_grad=False\n",
      "model.layers.2.self_attn.v_proj.base_layer.weight: requires_grad=False\n",
      "model.layers.2.self_attn.v_proj.lora_A.default.weight: requires_grad=False\n",
      "model.layers.2.self_attn.v_proj.lora_B.default.weight: requires_grad=False\n",
      "model.layers.2.self_attn.o_proj.weight: requires_grad=False\n",
      "model.layers.2.mlp.gate_proj.weight: requires_grad=False\n",
      "model.layers.2.mlp.up_proj.weight: requires_grad=False\n",
      "model.layers.2.mlp.down_proj.weight: requires_grad=False\n",
      "model.layers.2.input_layernorm.weight: requires_grad=False\n",
      "model.layers.2.post_attention_layernorm.weight: requires_grad=False\n",
      "model.layers.3.self_attn.q_proj.base_layer.weight: requires_grad=False\n",
      "model.layers.3.self_attn.q_proj.lora_A.default.weight: requires_grad=False\n",
      "model.layers.3.self_attn.q_proj.lora_B.default.weight: requires_grad=False\n",
      "model.layers.3.self_attn.k_proj.weight: requires_grad=False\n",
      "model.layers.3.self_attn.v_proj.base_layer.weight: requires_grad=False\n",
      "model.layers.3.self_attn.v_proj.lora_A.default.weight: requires_grad=False\n",
      "model.layers.3.self_attn.v_proj.lora_B.default.weight: requires_grad=False\n",
      "model.layers.3.self_attn.o_proj.weight: requires_grad=False\n",
      "model.layers.3.mlp.gate_proj.weight: requires_grad=False\n",
      "model.layers.3.mlp.up_proj.weight: requires_grad=False\n",
      "model.layers.3.mlp.down_proj.weight: requires_grad=False\n",
      "model.layers.3.input_layernorm.weight: requires_grad=False\n",
      "model.layers.3.post_attention_layernorm.weight: requires_grad=False\n",
      "model.norm.weight: requires_grad=False\n"
     ]
    }
   ],
   "source": [
    "for name, param in model.named_parameters():\n",
    "    print(f\"{name}: requires_grad={param.requires_grad}\")\n"
   ]
  },
  {
   "cell_type": "code",
   "execution_count": 5,
   "metadata": {},
   "outputs": [],
   "source": [
    "for name, param in model.named_parameters():\n",
    "    if 'lora_A' in name or 'lora_B' in name:\n",
    "        param.requires_grad = True"
   ]
  },
  {
   "cell_type": "code",
   "execution_count": null,
   "metadata": {},
   "outputs": [],
   "source": []
  }
 ],
 "metadata": {
  "kernelspec": {
   "display_name": "my-env",
   "language": "python",
   "name": "python3"
  },
  "language_info": {
   "codemirror_mode": {
    "name": "ipython",
    "version": 3
   },
   "file_extension": ".py",
   "mimetype": "text/x-python",
   "name": "python",
   "nbconvert_exporter": "python",
   "pygments_lexer": "ipython3",
   "version": "3.9.20"
  }
 },
 "nbformat": 4,
 "nbformat_minor": 2
}
