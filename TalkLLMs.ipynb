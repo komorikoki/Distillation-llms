{
 "cells": [
  {
   "cell_type": "code",
   "execution_count": 40,
   "metadata": {},
   "outputs": [],
   "source": [
    "from transformers import GPT2LMHeadModel, GPT2Tokenizer\n",
    "\n",
    "# Distilledモデルとトークナイザーをロード\n",
    "model = GPT2LMHeadModel.from_pretrained(\"./distill_GPTlm_model\")\n",
    "tokenizer = GPT2Tokenizer.from_pretrained(\"gpt2\")\n",
    "\n",
    "device=\"cuda\"\n",
    "model.to(device)\n",
    "\n",
    "tokenizer.add_special_tokens({'pad_token': '[PAD]'})\n",
    "model.generation_config.pad_token_id = tokenizer.pad_token_id\n",
    "\n"
   ]
  },
  {
   "cell_type": "code",
   "execution_count": 41,
   "metadata": {},
   "outputs": [],
   "source": [
    "def generate_response(input_text, model, tokenizer, max_length=100):\n",
    "    \n",
    "    inputs = tokenizer(input_text, return_tensors=\"pt\", truncation=True, padding=True).to(\"cuda\")  # 必要に応じてCUDAに送る\n",
    "    output = model.generate(inputs[\"input_ids\"], attention_mask=inputs[\"attention_mask\"], max_length=max_length, num_return_sequences=1)\n",
    "    response = tokenizer.decode(output[0], skip_special_tokens=True)\n",
    "    \n",
    "    return response"
   ]
  },
  {
   "cell_type": "code",
   "execution_count": 43,
   "metadata": {},
   "outputs": [
    {
     "name": "stdout",
     "output_type": "stream",
     "text": [
      "{'input_ids': tensor([[10919,   318, 17180,    30]], device='cuda:0'), 'attention_mask': tensor([[1, 1, 1, 1]], device='cuda:0')}\n",
      "tensor([[1, 1, 1, 1]], device='cuda:0')\n",
      "tensor([[10919,   318, 17180,    30,   198,   198,   198,   198,   198,   198,\n",
      "           198,   198,   198,   198,   198,   198,   198,   198,   198,   198,\n",
      "           198,   198,   198,   198,   198,   198,   198,   198,   198,   198,\n",
      "           198,   198,   198,   198,   198,   198,   198,   198,   198,   198]],\n",
      "       device='cuda:0')\n",
      "what is apple?\n",
      "\n",
      "\n",
      "\n",
      "\n",
      "\n",
      "\n",
      "\n",
      "\n",
      "\n",
      "\n",
      "\n",
      "\n",
      "\n",
      "\n",
      "\n",
      "\n",
      "\n",
      "\n",
      "\n",
      "\n",
      "\n",
      "\n",
      "\n",
      "\n",
      "\n",
      "\n",
      "\n",
      "\n",
      "\n",
      "\n",
      "\n",
      "\n",
      "\n",
      "\n",
      "\n",
      "\n"
     ]
    }
   ],
   "source": [
    "inputs = tokenizer([\"what is apple?\"], return_tensors=\"pt\", truncation=True, padding=True, max_length=20).to(\"cuda\") \n",
    "print(inputs)\n",
    "attention_mask=inputs['attention_mask']\n",
    "print(attention_mask)\n",
    "output = model.generate(inputs['input_ids'], attention_mask=inputs['attention_mask'], max_length=40, num_return_sequences=1, temperature=1.0 )\n",
    "print(output)\n",
    "response = tokenizer.decode(output[0])\n",
    "print(response)"
   ]
  },
  {
   "cell_type": "code",
   "execution_count": null,
   "metadata": {},
   "outputs": [],
   "source": []
  }
 ],
 "metadata": {
  "kernelspec": {
   "display_name": "my-env",
   "language": "python",
   "name": "python3"
  },
  "language_info": {
   "codemirror_mode": {
    "name": "ipython",
    "version": 3
   },
   "file_extension": ".py",
   "mimetype": "text/x-python",
   "name": "python",
   "nbconvert_exporter": "python",
   "pygments_lexer": "ipython3",
   "version": "3.9.20"
  }
 },
 "nbformat": 4,
 "nbformat_minor": 2
}
