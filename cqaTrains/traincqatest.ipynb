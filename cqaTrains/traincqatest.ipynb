{
 "cells": [
  {
   "cell_type": "code",
   "execution_count": 36,
   "metadata": {},
   "outputs": [],
   "source": [
    "from datasets import load_dataset\n",
    "from transformers import AutoModelForCausalLM, AutoTokenizer\n",
    "\n",
    "ds = load_dataset(\"rajpurkar/squad\")\n",
    "\n",
    "model = AutoModelForCausalLM.from_pretrained(\"../distillLLAMA2\")\n",
    "tokenizer = AutoTokenizer.from_pretrained(\"meta-llama/Llama-3.2-1B-Instruct\")"
   ]
  },
  {
   "cell_type": "code",
   "execution_count": 37,
   "metadata": {},
   "outputs": [],
   "source": [
    "import pandas as pd\n",
    "\n",
    "train_dataset=ds[\"train\"].shuffle(seed=42).select(range(1000))"
   ]
  },
  {
   "cell_type": "code",
   "execution_count": 83,
   "metadata": {},
   "outputs": [],
   "source": [
    "i=6"
   ]
  },
  {
   "cell_type": "code",
   "execution_count": 84,
   "metadata": {},
   "outputs": [
    {
     "data": {
      "text/plain": [
       "{'id': '57324e38e17f3d1400422823',\n",
       " 'title': 'Dwight_D._Eisenhower',\n",
       " 'context': 'Following the German unconditional surrender, Eisenhower was appointed Military Governor of the U.S. Occupation Zone, based at the IG Farben Building in Frankfurt am Main. He had no responsibility for the other three zones, controlled by Britain, France and the Soviet Union, except for the city of Berlin, which was managed by the Four-Power Authorities through the Allied Kommandatura as the governing body. Upon discovery of the Nazi concentration camps, he ordered camera crews to document evidence of the atrocities in them for use in the Nuremberg Trials. He reclassified German prisoners of war (POWs) in U.S. custody as Disarmed Enemy Forces (DEFs), who were no longer subject to the Geneva Convention. Eisenhower followed the orders laid down by the Joint Chiefs of Staff (JCS) in directive JCS 1067, but softened them by bringing in 400,000 tons of food for civilians and allowing more fraternization. In response to the devastation in Germany, including food shortages and an influx of refugees, he arranged distribution of American food and medical equipment. His actions reflected the new American attitudes of the German people as Nazi victims not villains, while aggressively purging the ex-Nazis.',\n",
       " 'question': \"What was Eisenhower's title after Germany's surrender?\",\n",
       " 'answers': {'text': ['Military Governor of the U.S. Occupation Zone'],\n",
       "  'answer_start': [71]}}"
      ]
     },
     "execution_count": 84,
     "metadata": {},
     "output_type": "execute_result"
    }
   ],
   "source": [
    "train_dataset[i]"
   ]
  },
  {
   "cell_type": "code",
   "execution_count": 118,
   "metadata": {},
   "outputs": [],
   "source": [
    "tokenized = tokenizer(train_dataset[i]['context']+train_dataset[i]['question'] + train_dataset[i]['answers']['text'][0])\n",
    "cqlen = len(tokenizer(train_dataset[i]['context']+train_dataset[i]['question'])['input_ids'])\n",
    "alen = tokenizer(train_dataset[i]['answers']['text'][0])"
   ]
  },
  {
   "cell_type": "code",
   "execution_count": 121,
   "metadata": {},
   "outputs": [
    {
     "data": {
      "text/plain": [
       "253"
      ]
     },
     "execution_count": 121,
     "metadata": {},
     "output_type": "execute_result"
    }
   ],
   "source": [
    "cqlen"
   ]
  },
  {
   "cell_type": "code",
   "execution_count": 123,
   "metadata": {},
   "outputs": [
    {
     "data": {
      "text/plain": [
       "{'input_ids': [128000, 86426, 24245, 315, 279, 549, 815, 13, 99452, 22967], 'attention_mask': [1, 1, 1, 1, 1, 1, 1, 1, 1, 1]}"
      ]
     },
     "execution_count": 123,
     "metadata": {},
     "output_type": "execute_result"
    }
   ],
   "source": [
    "alen"
   ]
  },
  {
   "cell_type": "code",
   "execution_count": 122,
   "metadata": {},
   "outputs": [
    {
     "data": {
      "text/plain": [
       "262"
      ]
     },
     "execution_count": 122,
     "metadata": {},
     "output_type": "execute_result"
    }
   ],
   "source": [
    "len(tokenized['input_ids'])"
   ]
  },
  {
   "cell_type": "code",
   "execution_count": 126,
   "metadata": {},
   "outputs": [
    {
     "data": {
      "text/plain": [
       "22967"
      ]
     },
     "execution_count": 126,
     "metadata": {},
     "output_type": "execute_result"
    }
   ],
   "source": [
    "tokenized['input_ids'][261]"
   ]
  },
  {
   "cell_type": "code",
   "execution_count": 124,
   "metadata": {},
   "outputs": [
    {
     "data": {
      "text/plain": [
       "{'input_ids': [128000, 28055, 279, 6063, 84663, 32859, 11, 89181, 574, 21489, 28058, 24245, 315, 279, 549, 815, 13, 99452, 22967, 11, 3196, 520, 279, 47280, 13759, 8123, 17283, 304, 56284, 1097, 4802, 13, 1283, 1047, 912, 12014, 369, 279, 1023, 2380, 26467, 11, 14400, 555, 13527, 11, 9822, 323, 279, 19953, 9323, 11, 3734, 369, 279, 3363, 315, 20437, 11, 902, 574, 9152, 555, 279, 13625, 9483, 1223, 68415, 1555, 279, 61855, 27790, 1969, 25282, 439, 279, 10217, 2547, 13, 30538, 18841, 315, 279, 32527, 20545, 29135, 11, 568, 11713, 6382, 43160, 311, 2246, 6029, 315, 279, 72336, 304, 1124, 369, 1005, 304, 279, 452, 554, 76, 7881, 70544, 13, 1283, 312, 65974, 6063, 28240, 315, 4208, 320, 2089, 75833, 8, 304, 549, 815, 13, 25502, 439, 4185, 31372, 31851, 30500, 320, 13963, 82, 705, 889, 1051, 912, 5129, 3917, 311, 279, 45345, 26958, 13, 89181, 8272, 279, 10373, 17551, 1523, 555, 279, 30833, 45844, 315, 17381, 320, 41, 6546, 8, 304, 34959, 622, 6546, 220, 7461, 22, 11, 719, 90158, 1124, 555, 12967, 304, 220, 3443, 11, 931, 20181, 315, 3691, 369, 29536, 323, 10923, 810, 1448, 13680, 2065, 13, 763, 2077, 311, 279, 83015, 304, 10057, 11, 2737, 3691, 67276, 323, 459, 53952, 315, 22475, 11, 568, 28902, 8141, 315, 3778, 3691, 323, 6593, 7241, 13, 5414, 6299, 27000, 279, 502, 3778, 33726, 315, 279, 6063, 1274, 439, 32527, 12697, 539, 61810, 11, 1418, 49139, 4087, 3252, 279, 506, 11500, 1394, 285, 76241, 574, 89181, 596, 2316, 1306, 10057, 596, 32859, 30, 86426, 24245, 315, 279, 549, 815, 13, 99452, 22967], 'attention_mask': [1, 1, 1, 1, 1, 1, 1, 1, 1, 1, 1, 1, 1, 1, 1, 1, 1, 1, 1, 1, 1, 1, 1, 1, 1, 1, 1, 1, 1, 1, 1, 1, 1, 1, 1, 1, 1, 1, 1, 1, 1, 1, 1, 1, 1, 1, 1, 1, 1, 1, 1, 1, 1, 1, 1, 1, 1, 1, 1, 1, 1, 1, 1, 1, 1, 1, 1, 1, 1, 1, 1, 1, 1, 1, 1, 1, 1, 1, 1, 1, 1, 1, 1, 1, 1, 1, 1, 1, 1, 1, 1, 1, 1, 1, 1, 1, 1, 1, 1, 1, 1, 1, 1, 1, 1, 1, 1, 1, 1, 1, 1, 1, 1, 1, 1, 1, 1, 1, 1, 1, 1, 1, 1, 1, 1, 1, 1, 1, 1, 1, 1, 1, 1, 1, 1, 1, 1, 1, 1, 1, 1, 1, 1, 1, 1, 1, 1, 1, 1, 1, 1, 1, 1, 1, 1, 1, 1, 1, 1, 1, 1, 1, 1, 1, 1, 1, 1, 1, 1, 1, 1, 1, 1, 1, 1, 1, 1, 1, 1, 1, 1, 1, 1, 1, 1, 1, 1, 1, 1, 1, 1, 1, 1, 1, 1, 1, 1, 1, 1, 1, 1, 1, 1, 1, 1, 1, 1, 1, 1, 1, 1, 1, 1, 1, 1, 1, 1, 1, 1, 1, 1, 1, 1, 1, 1, 1, 1, 1, 1, 1, 1, 1, 1, 1, 1, 1, 1, 1, 1, 1, 1, 1, 1, 1, 1, 1, 1, 1, 1, 1, 1, 1, 1, 1, 1, 1, 1, 1, 1, 1, 1, 1]}"
      ]
     },
     "execution_count": 124,
     "metadata": {},
     "output_type": "execute_result"
    }
   ],
   "source": [
    "tokenized"
   ]
  },
  {
   "cell_type": "code",
   "execution_count": 117,
   "metadata": {},
   "outputs": [
    {
     "data": {
      "text/plain": [
       "'?'"
      ]
     },
     "execution_count": 117,
     "metadata": {},
     "output_type": "execute_result"
    }
   ],
   "source": [
    "tokenizer.decode(30)"
   ]
  },
  {
   "cell_type": "code",
   "execution_count": 134,
   "metadata": {},
   "outputs": [],
   "source": [
    "labels=[-100]*(cqlen-1)\n",
    "for i in range(len(tokenized['input_ids'])-cqlen):\n",
    "    labels.append(tokenized['input_ids'][cqlen+i])\n",
    "labels.append(-100)"
   ]
  },
  {
   "cell_type": "code",
   "execution_count": 137,
   "metadata": {},
   "outputs": [],
   "source": [
    "tokenized['labels']=labels"
   ]
  },
  {
   "cell_type": "code",
   "execution_count": 138,
   "metadata": {},
   "outputs": [
    {
     "data": {
      "text/plain": [
       "{'input_ids': [128000, 28055, 279, 6063, 84663, 32859, 11, 89181, 574, 21489, 28058, 24245, 315, 279, 549, 815, 13, 99452, 22967, 11, 3196, 520, 279, 47280, 13759, 8123, 17283, 304, 56284, 1097, 4802, 13, 1283, 1047, 912, 12014, 369, 279, 1023, 2380, 26467, 11, 14400, 555, 13527, 11, 9822, 323, 279, 19953, 9323, 11, 3734, 369, 279, 3363, 315, 20437, 11, 902, 574, 9152, 555, 279, 13625, 9483, 1223, 68415, 1555, 279, 61855, 27790, 1969, 25282, 439, 279, 10217, 2547, 13, 30538, 18841, 315, 279, 32527, 20545, 29135, 11, 568, 11713, 6382, 43160, 311, 2246, 6029, 315, 279, 72336, 304, 1124, 369, 1005, 304, 279, 452, 554, 76, 7881, 70544, 13, 1283, 312, 65974, 6063, 28240, 315, 4208, 320, 2089, 75833, 8, 304, 549, 815, 13, 25502, 439, 4185, 31372, 31851, 30500, 320, 13963, 82, 705, 889, 1051, 912, 5129, 3917, 311, 279, 45345, 26958, 13, 89181, 8272, 279, 10373, 17551, 1523, 555, 279, 30833, 45844, 315, 17381, 320, 41, 6546, 8, 304, 34959, 622, 6546, 220, 7461, 22, 11, 719, 90158, 1124, 555, 12967, 304, 220, 3443, 11, 931, 20181, 315, 3691, 369, 29536, 323, 10923, 810, 1448, 13680, 2065, 13, 763, 2077, 311, 279, 83015, 304, 10057, 11, 2737, 3691, 67276, 323, 459, 53952, 315, 22475, 11, 568, 28902, 8141, 315, 3778, 3691, 323, 6593, 7241, 13, 5414, 6299, 27000, 279, 502, 3778, 33726, 315, 279, 6063, 1274, 439, 32527, 12697, 539, 61810, 11, 1418, 49139, 4087, 3252, 279, 506, 11500, 1394, 285, 76241, 574, 89181, 596, 2316, 1306, 10057, 596, 32859, 30, 86426, 24245, 315, 279, 549, 815, 13, 99452, 22967], 'attention_mask': [1, 1, 1, 1, 1, 1, 1, 1, 1, 1, 1, 1, 1, 1, 1, 1, 1, 1, 1, 1, 1, 1, 1, 1, 1, 1, 1, 1, 1, 1, 1, 1, 1, 1, 1, 1, 1, 1, 1, 1, 1, 1, 1, 1, 1, 1, 1, 1, 1, 1, 1, 1, 1, 1, 1, 1, 1, 1, 1, 1, 1, 1, 1, 1, 1, 1, 1, 1, 1, 1, 1, 1, 1, 1, 1, 1, 1, 1, 1, 1, 1, 1, 1, 1, 1, 1, 1, 1, 1, 1, 1, 1, 1, 1, 1, 1, 1, 1, 1, 1, 1, 1, 1, 1, 1, 1, 1, 1, 1, 1, 1, 1, 1, 1, 1, 1, 1, 1, 1, 1, 1, 1, 1, 1, 1, 1, 1, 1, 1, 1, 1, 1, 1, 1, 1, 1, 1, 1, 1, 1, 1, 1, 1, 1, 1, 1, 1, 1, 1, 1, 1, 1, 1, 1, 1, 1, 1, 1, 1, 1, 1, 1, 1, 1, 1, 1, 1, 1, 1, 1, 1, 1, 1, 1, 1, 1, 1, 1, 1, 1, 1, 1, 1, 1, 1, 1, 1, 1, 1, 1, 1, 1, 1, 1, 1, 1, 1, 1, 1, 1, 1, 1, 1, 1, 1, 1, 1, 1, 1, 1, 1, 1, 1, 1, 1, 1, 1, 1, 1, 1, 1, 1, 1, 1, 1, 1, 1, 1, 1, 1, 1, 1, 1, 1, 1, 1, 1, 1, 1, 1, 1, 1, 1, 1, 1, 1, 1, 1, 1, 1, 1, 1, 1, 1, 1, 1, 1, 1, 1, 1, 1, 1], 'labels': [-100, -100, -100, -100, -100, -100, -100, -100, -100, -100, -100, -100, -100, -100, -100, -100, -100, -100, -100, -100, -100, -100, -100, -100, -100, -100, -100, -100, -100, -100, -100, -100, -100, -100, -100, -100, -100, -100, -100, -100, -100, -100, -100, -100, -100, -100, -100, -100, -100, -100, -100, -100, -100, -100, -100, -100, -100, -100, -100, -100, -100, -100, -100, -100, -100, -100, -100, -100, -100, -100, -100, -100, -100, -100, -100, -100, -100, -100, -100, -100, -100, -100, -100, -100, -100, -100, -100, -100, -100, -100, -100, -100, -100, -100, -100, -100, -100, -100, -100, -100, -100, -100, -100, -100, -100, -100, -100, -100, -100, -100, -100, -100, -100, -100, -100, -100, -100, -100, -100, -100, -100, -100, -100, -100, -100, -100, -100, -100, -100, -100, -100, -100, -100, -100, -100, -100, -100, -100, -100, -100, -100, -100, -100, -100, -100, -100, -100, -100, -100, -100, -100, -100, -100, -100, -100, -100, -100, -100, -100, -100, -100, -100, -100, -100, -100, -100, -100, -100, -100, -100, -100, -100, -100, -100, -100, -100, -100, -100, -100, -100, -100, -100, -100, -100, -100, -100, -100, -100, -100, -100, -100, -100, -100, -100, -100, -100, -100, -100, -100, -100, -100, -100, -100, -100, -100, -100, -100, -100, -100, -100, -100, -100, -100, -100, -100, -100, -100, -100, -100, -100, -100, -100, -100, -100, -100, -100, -100, -100, -100, -100, -100, -100, -100, -100, -100, -100, -100, -100, -100, -100, -100, -100, -100, -100, -100, -100, -100, -100, -100, -100, -100, -100, 86426, 24245, 315, 279, 549, 815, 13, 99452, 22967, -100]}"
      ]
     },
     "execution_count": 138,
     "metadata": {},
     "output_type": "execute_result"
    }
   ],
   "source": [
    "tokenized"
   ]
  },
  {
   "cell_type": "code",
   "execution_count": null,
   "metadata": {},
   "outputs": [],
   "source": []
  }
 ],
 "metadata": {
  "kernelspec": {
   "display_name": "my-env",
   "language": "python",
   "name": "python3"
  },
  "language_info": {
   "codemirror_mode": {
    "name": "ipython",
    "version": 3
   },
   "file_extension": ".py",
   "mimetype": "text/x-python",
   "name": "python",
   "nbconvert_exporter": "python",
   "pygments_lexer": "ipython3",
   "version": "3.9.20"
  }
 },
 "nbformat": 4,
 "nbformat_minor": 2
}
