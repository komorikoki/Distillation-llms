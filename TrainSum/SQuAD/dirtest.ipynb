{
 "cells": [
  {
   "cell_type": "code",
   "execution_count": 1,
   "metadata": {},
   "outputs": [
    {
     "name": "stdout",
     "output_type": "stream",
     "text": [
      "ディレクトリ名一覧:\n",
      "./model/teacher_model\n",
      "./model/teacher_model_finetuned\n",
      "./model/normal_model_distill\n",
      "./model/distill_model_distill\n",
      "./model/normal_model\n",
      "./model/distill_model_QLoRA\n",
      "./model/normal_model_QLoRA\n",
      "./model/normal_model_train\n"
     ]
    }
   ],
   "source": [
    "import os\n",
    "\n",
    "def get_all_directories(folder_path):\n",
    "    directories = set()\n",
    "    for root, _, files in os.walk(folder_path):\n",
    "        if files:  # ファイルが存在する場合\n",
    "            directories.add(root)\n",
    "    return directories\n",
    "\n",
    "# 使用例\n",
    "folder_path = \"./model/\"\n",
    "directories = get_all_directories(folder_path)\n",
    "print(\"ディレクトリ名一覧:\")\n",
    "for directory in directories:\n",
    "    print(directory)"
   ]
  },
  {
   "cell_type": "code",
   "execution_count": null,
   "metadata": {},
   "outputs": [],
   "source": []
  }
 ],
 "metadata": {
  "kernelspec": {
   "display_name": "my-env",
   "language": "python",
   "name": "python3"
  },
  "language_info": {
   "codemirror_mode": {
    "name": "ipython",
    "version": 3
   },
   "file_extension": ".py",
   "mimetype": "text/x-python",
   "name": "python",
   "nbconvert_exporter": "python",
   "pygments_lexer": "ipython3",
   "version": "3.9.20"
  }
 },
 "nbformat": 4,
 "nbformat_minor": 2
}
