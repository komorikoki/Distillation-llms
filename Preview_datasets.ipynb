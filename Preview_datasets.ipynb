{
 "cells": [
  {
   "cell_type": "code",
   "execution_count": 13,
   "metadata": {},
   "outputs": [
    {
     "name": "stderr",
     "output_type": "stream",
     "text": [
      "Generating test split: 100%|██████████| 14042/14042 [00:00<00:00, 933263.88 examples/s]\n",
      "Generating validation split: 100%|██████████| 1531/1531 [00:00<00:00, 610638.97 examples/s]\n",
      "Generating dev split: 100%|██████████| 285/285 [00:00<00:00, 206741.03 examples/s]\n",
      "Generating auxiliary_train split: 100%|██████████| 99842/99842 [00:00<00:00, 388396.28 examples/s]\n"
     ]
    }
   ],
   "source": [
    "from datasets import load_dataset\n",
    "\n",
    "ds = load_dataset(\"cais/mmlu\", \"all\")\n"
   ]
  },
  {
   "cell_type": "code",
   "execution_count": 39,
   "metadata": {},
   "outputs": [
    {
     "data": {
      "text/plain": [
       "LlamaForCausalLM(\n",
       "  (model): LlamaModel(\n",
       "    (embed_tokens): Embedding(128256, 2048)\n",
       "    (layers): ModuleList(\n",
       "      (0-15): 16 x LlamaDecoderLayer(\n",
       "        (self_attn): LlamaSdpaAttention(\n",
       "          (q_proj): Linear(in_features=2048, out_features=2048, bias=False)\n",
       "          (k_proj): Linear(in_features=2048, out_features=512, bias=False)\n",
       "          (v_proj): Linear(in_features=2048, out_features=512, bias=False)\n",
       "          (o_proj): Linear(in_features=2048, out_features=2048, bias=False)\n",
       "          (rotary_emb): LlamaRotaryEmbedding()\n",
       "        )\n",
       "        (mlp): LlamaMLP(\n",
       "          (gate_proj): Linear(in_features=2048, out_features=8192, bias=False)\n",
       "          (up_proj): Linear(in_features=2048, out_features=8192, bias=False)\n",
       "          (down_proj): Linear(in_features=8192, out_features=2048, bias=False)\n",
       "          (act_fn): SiLU()\n",
       "        )\n",
       "        (input_layernorm): LlamaRMSNorm((2048,), eps=1e-05)\n",
       "        (post_attention_layernorm): LlamaRMSNorm((2048,), eps=1e-05)\n",
       "      )\n",
       "    )\n",
       "    (norm): LlamaRMSNorm((2048,), eps=1e-05)\n",
       "    (rotary_emb): LlamaRotaryEmbedding()\n",
       "  )\n",
       "  (lm_head): Linear(in_features=2048, out_features=128256, bias=False)\n",
       ")"
      ]
     },
     "execution_count": 39,
     "metadata": {},
     "output_type": "execute_result"
    }
   ],
   "source": [
    "# Load model directly\n",
    "from transformers import AutoTokenizer, AutoModelForCausalLM\n",
    "\n",
    "tokenizer = AutoTokenizer.from_pretrained(\"meta-llama/Llama-3.2-1B-Instruct\")\n",
    "model = AutoModelForCausalLM.from_pretrained(\"meta-llama/Llama-3.2-1B-Instruct\")\n",
    "model.eval()"
   ]
  },
  {
   "cell_type": "code",
   "execution_count": null,
   "metadata": {},
   "outputs": [],
   "source": [
    "# 質問の入力\n",
    "tokenizer.pad_token = tokenizer.eos_token\n",
    "tokenizer.pad_token_id = tokenizer.eos_token_id\n",
    "\n"
   ]
  },
  {
   "cell_type": "code",
   "execution_count": 69,
   "metadata": {},
   "outputs": [
    {
     "data": {
      "text/plain": [
       "'please fill MASK. The [MASK] is shining.'"
      ]
     },
     "execution_count": 69,
     "metadata": {},
     "output_type": "execute_result"
    }
   ],
   "source": [
    "i=2\n",
    "# statement=eval['question'][i]+\". A: \" +eval['choices'][i][0]+\". B: \" +eval['choices'][i][1]+\". C: \" +eval['choices'][i][2]+\". D: \" +eval['choices'][i][3]\n",
    "statement=\"please fill MASK. The [MASK] is shining.\"\n",
    "statement"
   ]
  },
  {
   "cell_type": "code",
   "execution_count": 70,
   "metadata": {},
   "outputs": [
    {
     "name": "stdout",
     "output_type": "stream",
     "text": [
      "please fill MASK. The [MASK] is shining. Please fill in the blank with a valid email address.\n",
      "\n",
      "I'd like to request a new email address to [MASK]. I will use it to receive notifications and updates from [MASK]. Please provide a new email address that is not associated with my existing account. Thank you for your assistance.\n",
      "\n",
      "I will use this new email address for personal and business purposes. I will make sure to keep my existing account secure and will not share my new email address with anyone. I understand that my new email address will be used to receive notifications and updates from [MASK]. I have reviewed the terms and conditions of my existing account and I have not used it for any purpose that would require a new email address.\n",
      "\n",
      "I have chosen a new email address that is not associated with my existing account. I will use it to receive notifications and updates from [MASK]. I have reviewed the terms and conditions of my existing account and I have not used it for any purpose that would require a new email address.\n",
      "\n",
      "I have chosen a new email address that is not associated with my existing account. I will use it to receive notifications and updates from [MASK]. I have reviewed the terms and conditions of my existing account and I have not used it for any purpose that would require a new email address.\n",
      "\n",
      "I have chosen a new email address that is not associated with my existing account. I will use it to receive notifications and updates from [MASK]. I have reviewed the terms and conditions of my existing account and I have not used it for any purpose that would require a new email address.\n",
      "\n",
      "I have chosen a new email address that is not associated with my existing account. I will use it to receive notifications and updates from [MASK]. I have reviewed the terms and conditions of my existing account and I have not used it for any purpose that would require a new email address.\n",
      "\n",
      "I have chosen a new email address that is not associated with my existing account. I will use it to receive notifications and updates from [MASK]. I have reviewed the terms and conditions of my existing account and I have not used it for any purpose that would require a new email address.\n",
      "\n",
      "I have chosen a new email address that is not associated with my existing account. I will use it to receive notifications and updates from [MASK]. I have reviewed the terms and conditions of my existing account and I have not used it for any purpose that would require a new email address.\n",
      "\n",
      "I have chosen a new email address\n"
     ]
    }
   ],
   "source": [
    "input_ids = tokenizer(statement, return_tensors=\"pt\", truncation=True, padding=True).to(device)\n",
    "model.to(device)\n",
    "\n",
    "attention_mask=input_ids['attention_mask']\n",
    "\n",
    "output = model.generate(input_ids['input_ids'], attention_mask=attention_mask, pad_token_id=tokenizer.eos_token_id, max_length=500)\n",
    "# 出力のデコード\n",
    "answer = tokenizer.decode(output[0], skip_special_tokens=True)\n",
    "print(answer)"
   ]
  },
  {
   "cell_type": "code",
   "execution_count": 64,
   "metadata": {},
   "outputs": [
    {
     "data": {
      "text/plain": [
       "0"
      ]
     },
     "execution_count": 64,
     "metadata": {},
     "output_type": "execute_result"
    }
   ],
   "source": [
    "eval['answer'][i]"
   ]
  },
  {
   "cell_type": "code",
   "execution_count": null,
   "metadata": {},
   "outputs": [],
   "source": []
  }
 ],
 "metadata": {
  "kernelspec": {
   "display_name": "my-env",
   "language": "python",
   "name": "python3"
  },
  "language_info": {
   "codemirror_mode": {
    "name": "ipython",
    "version": 3
   },
   "file_extension": ".py",
   "mimetype": "text/x-python",
   "name": "python",
   "nbconvert_exporter": "python",
   "pygments_lexer": "ipython3",
   "version": "3.9.20"
  }
 },
 "nbformat": 4,
 "nbformat_minor": 2
}
