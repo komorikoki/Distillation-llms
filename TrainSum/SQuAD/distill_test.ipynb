{
 "cells": [
  {
   "cell_type": "code",
   "execution_count": 3,
   "metadata": {},
   "outputs": [
    {
     "name": "stderr",
     "output_type": "stream",
     "text": [
      "Tokenizing dataset: 100%|██████████| 1000/1000 [00:00<00:00, 1076.93it/s]\n"
     ]
    },
    {
     "name": "stdout",
     "output_type": "stream",
     "text": [
      "done:  1 / 1\n"
     ]
    }
   ],
   "source": [
    "from datasets import load_dataset\n",
    "from transformers import AutoModelForCausalLM, Trainer, TrainingArguments, AutoTokenizer\n",
    "import re\n",
    "from tqdm import tqdm\n",
    "import torch\n",
    "from torch.nn import functional as F\n",
    "from torch.optim import AdamW\n",
    "import matplotlib.pyplot as plt\n",
    "from torch import nn\n",
    "\n",
    "\n",
    "def reshape(dataset):\n",
    "    reshape_dataset = [0] * len(dataset)\n",
    "    for i in range(len(dataset)):\n",
    "        reshape_dataset[i]=\"C: \"+dataset[i][\"context\"]+\" Q: \"+dataset[i][\"question\"]+\" A: \"+dataset[i][\"answers\"][\"text\"][0]\n",
    "    reshape_dataset = [item for item in reshape_dataset if item != '' and len(item) >= 50 and '@' not in item]\n",
    "    reshape_dataset = [re.sub(r'[^a-zA-Z0-9 .:?]', '', item) for item in reshape_dataset]\n",
    "    reshape_dataset = [re.sub(r'\\s+', ' ', item) for item in reshape_dataset]\n",
    "    return reshape_dataset[:data_size]\n",
    "\n",
    "def max_length(dataset):\n",
    "    max_eval=0\n",
    "    for i in dataset:\n",
    "        max_eval = len(i) if len(i) > max_eval else max_eval\n",
    "    print(max_eval)\n",
    "    return\n",
    "\n",
    "def batch(input, size):\n",
    "    batch_train=[]\n",
    "    for i in range(size):\n",
    "        batch_input=[input[4*i+0], input[4*i+1], input[4*i+2], input[4*i+3]]\n",
    "        batch_train.append(batch_input)\n",
    "\n",
    "    return batch_train\n",
    "\n",
    "def make_data(data):\n",
    "    dataset=reshape(data)\n",
    "    data = []\n",
    "    for text in tqdm(dataset, desc=\"Tokenizing dataset\"):\n",
    "        cq_len=len(tokenizer(text[:text.find(\"A:\")])['input_ids'])\n",
    "        tokenized = tokenizer(text, padding=\"max_length\", max_length=512, truncation=True, return_tensors=\"pt\")\n",
    "        input_ids = tokenized['input_ids'].squeeze().tolist()\n",
    "        attention_mask = tokenized['attention_mask'].squeeze().tolist()\n",
    "        labels = input_ids[1:] + [tokenizer.pad_token_id]\n",
    "        for i in range(min(cq_len-2, 512)):\n",
    "            labels[i]=128001\n",
    "        data.append({\"input_ids\": input_ids, \"labels\": labels, \"attention_mask\":attention_mask})\n",
    "    \n",
    "    return data\n",
    "\n",
    "def make_tensor(data, type, size):\n",
    "    tmp = [item[type] for item in data]\n",
    "    tmp = batch(tmp, size)\n",
    "    tensor=torch.tensor(tmp, dtype=torch.long)\n",
    "    return tensor\n",
    "\n",
    "ds = load_dataset(\"rajpurkar/squad\")\n",
    "device='cuda'\n",
    "student_model = AutoModelForCausalLM.from_pretrained(\"../model/initialized_distill_model2\")\n",
    "teacher_model = AutoModelForCausalLM.from_pretrained(\"meta-llama/Llama-3.2-1B\")\n",
    "tokenizer = AutoTokenizer.from_pretrained(\"meta-llama/Llama-3.2-1B\")\n",
    "tokenizer.pad_token = tokenizer.eos_token\n",
    "tokenizer.pad_token_id = tokenizer.eos_token_id\n",
    "\n",
    "data_size = 1000\n",
    "size = int(data_size/4)\n",
    "train_dataset=ds[\"train\"].shuffle(seed=42).select(range(10000))\n",
    "\n",
    "data = make_data(train_dataset)\n",
    "\n",
    "input_ids_tensor = make_tensor(data, \"input_ids\", size)\n",
    "labels_tensor = make_tensor(data, \"labels\", size)\n",
    "attention_mask_tensor = make_tensor(data, \"attention_mask\", size)\n",
    "\n",
    "\n",
    "vocab_size = student_model.config.vocab_size\n",
    "criterion = torch.nn.CrossEntropyLoss(ignore_index=128001)\n",
    "\n",
    "criterion.to(device)\n",
    "input_ids_tensor=input_ids_tensor.to(device)\n",
    "labels_tensor=labels_tensor.to(device)\n",
    "attention_mask_tensor=attention_mask_tensor.to(device)\n",
    "\n",
    "student_model.to(device)\n",
    "teacher_model.to(device)\n",
    "\n",
    "epochs = 1\n",
    "lr=1e-4\n",
    "\n",
    "student_model.train()\n",
    "teacher_model.train()\n",
    "\n",
    "for j in range(epochs):\n",
    "    optimizer = AdamW(student_model.parameters(), lr=lr)\n",
    "\n",
    "    i=0\n",
    "    \n",
    "    input_ids=input_ids_tensor[i]\n",
    "    labels=labels_tensor[i]\n",
    "    attention_mask=attention_mask_tensor[i]\n",
    "    optimizer.zero_grad()\n",
    "    student_outputs = student_model(input_ids=input_ids, attention_mask=attention_mask)\n",
    "    student_logits = student_outputs.logits\n",
    "    student_prob=F.log_softmax(student_logits, dim=-1)\n",
    "    student_prob_view = student_prob.view(-1, vocab_size)\n",
    "    \n",
    "\n",
    "    with torch.no_grad():\n",
    "        teacher_outputs = teacher_model(input_ids=input_ids, attention_mask=attention_mask)\n",
    "        teacher_logits = teacher_outputs.logits\n",
    "        teacher_prob = F.softmax(teacher_logits, dim=-1)\n",
    "        teacher_prob_view = teacher_prob.view(-1, vocab_size)\n",
    "    \n",
    "\n",
    "    sec_student_prob=[]\n",
    "    sec_teacher_prob=[]\n",
    "    for i in range(labels.view(-1).size(0)):\n",
    "        if labels.view(-1)[i] == 128001:\n",
    "            sec_student_prob.append(torch.zeros_like(student_prob_view[i]))  \n",
    "            sec_teacher_prob.append(torch.zeros_like(teacher_prob_view[i]))\n",
    "        else:\n",
    "            sec_student_prob.append(student_prob_view[i])  \n",
    "            sec_teacher_prob.append(teacher_prob_view[i])\n",
    "    sec_student = torch.stack(sec_student_prob, dim=0)\n",
    "    sec_teacher = torch.stack(sec_teacher_prob, dim=0)\n",
    "\n",
    "    kldiv_loss=F.kl_div(sec_student, sec_teacher, reduction=\"none\")\n",
    "    kl_div_answer = kldiv_loss.sum(dim=-1)\n",
    "    kl_loss=kl_div_answer.sum()\n",
    "\n",
    "    loss= kl_loss/10\n",
    "    loss.backward()\n",
    "    optimizer.step()\n",
    "        \n",
    "    print(\"done: \", j+1, \"/\", epochs)\n",
    "    lr/=10"
   ]
  },
  {
   "cell_type": "code",
   "execution_count": 4,
   "metadata": {},
   "outputs": [
    {
     "name": "stdout",
     "output_type": "stream",
     "text": [
      "tensor(155.9477, device='cuda:0', grad_fn=<SumBackward0>)\n"
     ]
    }
   ],
   "source": [
    "print(kl_loss)"
   ]
  },
  {
   "cell_type": "code",
   "execution_count": 7,
   "metadata": {},
   "outputs": [
    {
     "data": {
      "text/plain": [
       "tensor(128001, device='cuda:0')"
      ]
     },
     "execution_count": 7,
     "metadata": {},
     "output_type": "execute_result"
    }
   ],
   "source": [
    "labels.view(-1)[0]"
   ]
  },
  {
   "cell_type": "code",
   "execution_count": 15,
   "metadata": {},
   "outputs": [
    {
     "name": "stdout",
     "output_type": "stream",
     "text": [
      "138\n",
      "139\n",
      "140\n",
      "141\n",
      "635\n",
      "636\n",
      "637\n",
      "1166\n",
      "1167\n",
      "1168\n",
      "1169\n",
      "1677\n",
      "1678\n",
      "1679\n",
      "1680\n",
      "1681\n"
     ]
    }
   ],
   "source": [
    "logits_view = logits.view(-1, vocab_size)\n",
    "\n",
    "for i in range(labels.view(-1).size(0)):\n",
    "    if labels.view(-1)[i] == 128001:\n",
    "        logits_view[i].zero_()\n",
    "    else:\n",
    "        print(i)"
   ]
  },
  {
   "cell_type": "code",
   "execution_count": 14,
   "metadata": {},
   "outputs": [
    {
     "data": {
      "text/plain": [
       "tensor([0., 0., 0.,  ..., 0., 0., 0.], device='cuda:0',\n",
       "       grad_fn=<SelectBackward0>)"
      ]
     },
     "execution_count": 14,
     "metadata": {},
     "output_type": "execute_result"
    }
   ],
   "source": [
    "logits_view[2045]"
   ]
  },
  {
   "cell_type": "code",
   "execution_count": null,
   "metadata": {},
   "outputs": [],
   "source": [
    "kldiv_loss=F.kl_div(student_prob/temperature, teacher_prob/temperature, reduction=\"none\")   "
   ]
  },
  {
   "cell_type": "code",
   "execution_count": 5,
   "metadata": {},
   "outputs": [
    {
     "name": "stdout",
     "output_type": "stream",
     "text": [
      "2\n"
     ]
    }
   ],
   "source": [
    "text = \"banana\"\n",
    "index = text.find(\"na\")\n",
    "print(index)  # 出力: 2"
   ]
  },
  {
   "cell_type": "code",
   "execution_count": null,
   "metadata": {},
   "outputs": [],
   "source": []
  }
 ],
 "metadata": {
  "kernelspec": {
   "display_name": "my-env",
   "language": "python",
   "name": "python3"
  },
  "language_info": {
   "codemirror_mode": {
    "name": "ipython",
    "version": 3
   },
   "file_extension": ".py",
   "mimetype": "text/x-python",
   "name": "python",
   "nbconvert_exporter": "python",
   "pygments_lexer": "ipython3",
   "version": "3.9.20"
  }
 },
 "nbformat": 4,
 "nbformat_minor": 2
}
