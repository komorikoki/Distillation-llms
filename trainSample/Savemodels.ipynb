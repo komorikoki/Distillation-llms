{
 "cells": [
  {
   "cell_type": "code",
   "execution_count": 1,
   "metadata": {},
   "outputs": [],
   "source": [
    "from transformers import AutoModelForCausalLM, Trainer, TrainingArguments, AutoTokenizer\n",
    "\n",
    "model = AutoModelForCausalLM.from_pretrained(\"distillLLAMA\")\n",
    "\n"
   ]
  },
  {
   "cell_type": "code",
   "execution_count": 2,
   "metadata": {},
   "outputs": [
    {
     "data": {
      "application/vnd.jupyter.widget-view+json": {
       "model_id": "b7a6341a85fb484b98d004bc88d2c509",
       "version_major": 2,
       "version_minor": 0
      },
      "text/plain": [
       "model.safetensors:   0%|          | 0.00/3.00G [00:00<?, ?B/s]"
      ]
     },
     "metadata": {},
     "output_type": "display_data"
    },
    {
     "data": {
      "text/plain": [
       "CommitInfo(commit_url='https://huggingface.co/Komori710/llama-distillhalf/commit/c8e2006ec8fb68e6d0cbad30fbdf5ab3645d0630', commit_message='Upload LlamaForCausalLM', commit_description='', oid='c8e2006ec8fb68e6d0cbad30fbdf5ab3645d0630', pr_url=None, repo_url=RepoUrl('https://huggingface.co/Komori710/llama-distillhalf', endpoint='https://huggingface.co', repo_type='model', repo_id='Komori710/llama-distillhalf'), pr_revision=None, pr_num=None)"
      ]
     },
     "execution_count": 2,
     "metadata": {},
     "output_type": "execute_result"
    }
   ],
   "source": [
    "model.push_to_hub(\"llama-distillhalf\", private=True)"
   ]
  },
  {
   "cell_type": "code",
   "execution_count": 3,
   "metadata": {},
   "outputs": [],
   "source": [
    "model2 = AutoModelForCausalLM.from_pretrained(\"distillLLAMA\")"
   ]
  },
  {
   "cell_type": "code",
   "execution_count": 4,
   "metadata": {},
   "outputs": [
    {
     "data": {
      "application/vnd.jupyter.widget-view+json": {
       "model_id": "e1e2518d5f544bfaa13e61885a2f31ac",
       "version_major": 2,
       "version_minor": 0
      },
      "text/plain": [
       "model.safetensors:   0%|          | 0.00/3.00G [00:00<?, ?B/s]"
      ]
     },
     "metadata": {},
     "output_type": "display_data"
    },
    {
     "data": {
      "text/plain": [
       "CommitInfo(commit_url='https://huggingface.co/Komori710/llama-distillquarter/commit/eaf44e942b59c2001c26eab8c7a5dfbe71aa96be', commit_message='Upload LlamaForCausalLM', commit_description='', oid='eaf44e942b59c2001c26eab8c7a5dfbe71aa96be', pr_url=None, repo_url=RepoUrl('https://huggingface.co/Komori710/llama-distillquarter', endpoint='https://huggingface.co', repo_type='model', repo_id='Komori710/llama-distillquarter'), pr_revision=None, pr_num=None)"
      ]
     },
     "execution_count": 4,
     "metadata": {},
     "output_type": "execute_result"
    }
   ],
   "source": [
    "model2.push_to_hub(\"llama-distillquarter\", private=True)"
   ]
  },
  {
   "cell_type": "code",
   "execution_count": null,
   "metadata": {},
   "outputs": [],
   "source": []
  }
 ],
 "metadata": {
  "kernelspec": {
   "display_name": "my-env",
   "language": "python",
   "name": "python3"
  },
  "language_info": {
   "codemirror_mode": {
    "name": "ipython",
    "version": 3
   },
   "file_extension": ".py",
   "mimetype": "text/x-python",
   "name": "python",
   "nbconvert_exporter": "python",
   "pygments_lexer": "ipython3",
   "version": "3.9.20"
  }
 },
 "nbformat": 4,
 "nbformat_minor": 2
}
