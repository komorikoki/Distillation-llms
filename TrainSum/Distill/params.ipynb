{
 "cells": [
  {
   "cell_type": "code",
   "execution_count": 3,
   "metadata": {},
   "outputs": [],
   "source": [
    "from transformers import AutoModel"
   ]
  },
  {
   "cell_type": "code",
   "execution_count": 7,
   "metadata": {},
   "outputs": [
    {
     "name": "stdout",
     "output_type": "stream",
     "text": [
      "Total parameters: 505956352\n"
     ]
    }
   ],
   "source": [
    "model = AutoModel.from_pretrained(\"../distillLLAMA2\")\n",
    "total_params = sum(p.numel() for p in model.parameters())\n",
    "print(f\"Total parameters: {total_params}\")\n"
   ]
  },
  {
   "cell_type": "code",
   "execution_count": 8,
   "metadata": {},
   "outputs": [
    {
     "name": "stdout",
     "output_type": "stream",
     "text": [
      "Total parameters: 749242368\n"
     ]
    }
   ],
   "source": [
    "model = AutoModel.from_pretrained(\"../distillLLAMA\")\n",
    "total_params = sum(p.numel() for p in model.parameters())\n",
    "print(f\"Total parameters: {total_params}\")"
   ]
  },
  {
   "cell_type": "code",
   "execution_count": 9,
   "metadata": {},
   "outputs": [
    {
     "name": "stdout",
     "output_type": "stream",
     "text": [
      "Total parameters: 1235814400\n"
     ]
    }
   ],
   "source": [
    "model = AutoModel.from_pretrained(\"meta-llama/Llama-3.2-1B-Instruct\")\n",
    "total_params = sum(p.numel() for p in model.parameters())\n",
    "print(f\"Total parameters: {total_params}\")"
   ]
  },
  {
   "cell_type": "code",
   "execution_count": 13,
   "metadata": {},
   "outputs": [
    {
     "data": {
      "text/plain": [
       "===========================================================================\n",
       "Layer (type:depth-idx)                             Param #\n",
       "===========================================================================\n",
       "LlamaModel                                         --\n",
       "├─Embedding: 1-1                                   262,668,288\n",
       "├─ModuleList: 1-2                                  --\n",
       "│    └─LlamaDecoderLayer: 2-1                      --\n",
       "│    │    └─LlamaSdpaAttention: 3-1                10,485,760\n",
       "│    │    └─LlamaMLP: 3-2                          50,331,648\n",
       "│    │    └─LlamaRMSNorm: 3-3                      2,048\n",
       "│    │    └─LlamaRMSNorm: 3-4                      2,048\n",
       "│    └─LlamaDecoderLayer: 2-2                      --\n",
       "│    │    └─LlamaSdpaAttention: 3-5                10,485,760\n",
       "│    │    └─LlamaMLP: 3-6                          50,331,648\n",
       "│    │    └─LlamaRMSNorm: 3-7                      2,048\n",
       "│    │    └─LlamaRMSNorm: 3-8                      2,048\n",
       "│    └─LlamaDecoderLayer: 2-3                      --\n",
       "│    │    └─LlamaSdpaAttention: 3-9                10,485,760\n",
       "│    │    └─LlamaMLP: 3-10                         50,331,648\n",
       "│    │    └─LlamaRMSNorm: 3-11                     2,048\n",
       "│    │    └─LlamaRMSNorm: 3-12                     2,048\n",
       "│    └─LlamaDecoderLayer: 2-4                      --\n",
       "│    │    └─LlamaSdpaAttention: 3-13               10,485,760\n",
       "│    │    └─LlamaMLP: 3-14                         50,331,648\n",
       "│    │    └─LlamaRMSNorm: 3-15                     2,048\n",
       "│    │    └─LlamaRMSNorm: 3-16                     2,048\n",
       "│    └─LlamaDecoderLayer: 2-5                      --\n",
       "│    │    └─LlamaSdpaAttention: 3-17               10,485,760\n",
       "│    │    └─LlamaMLP: 3-18                         50,331,648\n",
       "│    │    └─LlamaRMSNorm: 3-19                     2,048\n",
       "│    │    └─LlamaRMSNorm: 3-20                     2,048\n",
       "│    └─LlamaDecoderLayer: 2-6                      --\n",
       "│    │    └─LlamaSdpaAttention: 3-21               10,485,760\n",
       "│    │    └─LlamaMLP: 3-22                         50,331,648\n",
       "│    │    └─LlamaRMSNorm: 3-23                     2,048\n",
       "│    │    └─LlamaRMSNorm: 3-24                     2,048\n",
       "│    └─LlamaDecoderLayer: 2-7                      --\n",
       "│    │    └─LlamaSdpaAttention: 3-25               10,485,760\n",
       "│    │    └─LlamaMLP: 3-26                         50,331,648\n",
       "│    │    └─LlamaRMSNorm: 3-27                     2,048\n",
       "│    │    └─LlamaRMSNorm: 3-28                     2,048\n",
       "│    └─LlamaDecoderLayer: 2-8                      --\n",
       "│    │    └─LlamaSdpaAttention: 3-29               10,485,760\n",
       "│    │    └─LlamaMLP: 3-30                         50,331,648\n",
       "│    │    └─LlamaRMSNorm: 3-31                     2,048\n",
       "│    │    └─LlamaRMSNorm: 3-32                     2,048\n",
       "│    └─LlamaDecoderLayer: 2-9                      --\n",
       "│    │    └─LlamaSdpaAttention: 3-33               10,485,760\n",
       "│    │    └─LlamaMLP: 3-34                         50,331,648\n",
       "│    │    └─LlamaRMSNorm: 3-35                     2,048\n",
       "│    │    └─LlamaRMSNorm: 3-36                     2,048\n",
       "│    └─LlamaDecoderLayer: 2-10                     --\n",
       "│    │    └─LlamaSdpaAttention: 3-37               10,485,760\n",
       "│    │    └─LlamaMLP: 3-38                         50,331,648\n",
       "│    │    └─LlamaRMSNorm: 3-39                     2,048\n",
       "│    │    └─LlamaRMSNorm: 3-40                     2,048\n",
       "│    └─LlamaDecoderLayer: 2-11                     --\n",
       "│    │    └─LlamaSdpaAttention: 3-41               10,485,760\n",
       "│    │    └─LlamaMLP: 3-42                         50,331,648\n",
       "│    │    └─LlamaRMSNorm: 3-43                     2,048\n",
       "│    │    └─LlamaRMSNorm: 3-44                     2,048\n",
       "│    └─LlamaDecoderLayer: 2-12                     --\n",
       "│    │    └─LlamaSdpaAttention: 3-45               10,485,760\n",
       "│    │    └─LlamaMLP: 3-46                         50,331,648\n",
       "│    │    └─LlamaRMSNorm: 3-47                     2,048\n",
       "│    │    └─LlamaRMSNorm: 3-48                     2,048\n",
       "│    └─LlamaDecoderLayer: 2-13                     --\n",
       "│    │    └─LlamaSdpaAttention: 3-49               10,485,760\n",
       "│    │    └─LlamaMLP: 3-50                         50,331,648\n",
       "│    │    └─LlamaRMSNorm: 3-51                     2,048\n",
       "│    │    └─LlamaRMSNorm: 3-52                     2,048\n",
       "│    └─LlamaDecoderLayer: 2-14                     --\n",
       "│    │    └─LlamaSdpaAttention: 3-53               10,485,760\n",
       "│    │    └─LlamaMLP: 3-54                         50,331,648\n",
       "│    │    └─LlamaRMSNorm: 3-55                     2,048\n",
       "│    │    └─LlamaRMSNorm: 3-56                     2,048\n",
       "│    └─LlamaDecoderLayer: 2-15                     --\n",
       "│    │    └─LlamaSdpaAttention: 3-57               10,485,760\n",
       "│    │    └─LlamaMLP: 3-58                         50,331,648\n",
       "│    │    └─LlamaRMSNorm: 3-59                     2,048\n",
       "│    │    └─LlamaRMSNorm: 3-60                     2,048\n",
       "│    └─LlamaDecoderLayer: 2-16                     --\n",
       "│    │    └─LlamaSdpaAttention: 3-61               10,485,760\n",
       "│    │    └─LlamaMLP: 3-62                         50,331,648\n",
       "│    │    └─LlamaRMSNorm: 3-63                     2,048\n",
       "│    │    └─LlamaRMSNorm: 3-64                     2,048\n",
       "├─LlamaRMSNorm: 1-3                                2,048\n",
       "├─LlamaRotaryEmbedding: 1-4                        --\n",
       "===========================================================================\n",
       "Total params: 1,235,814,400\n",
       "Trainable params: 1,235,814,400\n",
       "Non-trainable params: 0\n",
       "==========================================================================="
      ]
     },
     "execution_count": 13,
     "metadata": {},
     "output_type": "execute_result"
    }
   ],
   "source": [
    "from torchinfo import summary\n",
    "summary(model)"
   ]
  },
  {
   "cell_type": "code",
   "execution_count": null,
   "metadata": {},
   "outputs": [],
   "source": []
  }
 ],
 "metadata": {
  "kernelspec": {
   "display_name": "my-env",
   "language": "python",
   "name": "python3"
  },
  "language_info": {
   "codemirror_mode": {
    "name": "ipython",
    "version": 3
   },
   "file_extension": ".py",
   "mimetype": "text/x-python",
   "name": "python",
   "nbconvert_exporter": "python",
   "pygments_lexer": "ipython3",
   "version": "3.9.20"
  }
 },
 "nbformat": 4,
 "nbformat_minor": 2
}
