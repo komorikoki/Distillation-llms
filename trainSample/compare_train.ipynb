{
 "cells": [
  {
   "cell_type": "code",
   "execution_count": null,
   "metadata": {
    "vscode": {
     "languageId": "plaintext"
    }
   },
   "outputs": [],
   "source": [
    "from transformers import GPT2LMHeadModel, GPT2Config\n",
    "\n",
    "# 初期化されたLLMの設定とモデル\n",
    "config = GPT2Config()  # デフォルトの設定で初期化\n",
    "initialized_model = GPT2LMHeadModel(config)\n",
    "\n",
    "# 事前学習済みLLMのロード\n",
    "pretrained_model = GPT2LMHeadModel.from_pretrained(\"gpt2\")"
   ]
  }
 ],
 "metadata": {
  "language_info": {
   "name": "python"
  }
 },
 "nbformat": 4,
 "nbformat_minor": 2
}
