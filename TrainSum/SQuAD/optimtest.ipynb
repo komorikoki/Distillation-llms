{
 "cells": [
  {
   "cell_type": "code",
   "execution_count": 1,
   "metadata": {},
   "outputs": [],
   "source": [
    "hyps=[]\n",
    "hyps.append({\"lr\":1, \"temp\":2})"
   ]
  },
  {
   "cell_type": "code",
   "execution_count": 2,
   "metadata": {},
   "outputs": [
    {
     "data": {
      "text/plain": [
       "[{'lr': 1, 'temp': 2}]"
      ]
     },
     "execution_count": 2,
     "metadata": {},
     "output_type": "execute_result"
    }
   ],
   "source": [
    "hyps"
   ]
  },
  {
   "cell_type": "code",
   "execution_count": 4,
   "metadata": {},
   "outputs": [
    {
     "name": "stdout",
     "output_type": "stream",
     "text": [
      "1. 1.00e-07\n",
      "2. 2.15e-07\n",
      "3. 4.64e-07\n",
      "4. 1.00e-06\n",
      "5. 2.15e-06\n",
      "6. 4.64e-06\n",
      "7. 1.00e-05\n",
      "8. 2.15e-05\n",
      "9. 4.64e-05\n",
      "10. 1.00e-04\n"
     ]
    }
   ],
   "source": [
    "import numpy as np\n",
    "\n",
    "# 対数スケールで等間隔に 9 分割\n",
    "log_lr_values = np.linspace(-7, -4, 10)\n",
    "lr_values = 10 ** log_lr_values\n",
    "\n",
    "# 表示\n",
    "for i, lr in enumerate(lr_values, 1):\n",
    "    print(f\"{i}. {lr:.2e}\")"
   ]
  },
  {
   "cell_type": "code",
   "execution_count": null,
   "metadata": {},
   "outputs": [],
   "source": []
  }
 ],
 "metadata": {
  "kernelspec": {
   "display_name": "my-env",
   "language": "python",
   "name": "python3"
  },
  "language_info": {
   "codemirror_mode": {
    "name": "ipython",
    "version": 3
   },
   "file_extension": ".py",
   "mimetype": "text/x-python",
   "name": "python",
   "nbconvert_exporter": "python",
   "pygments_lexer": "ipython3",
   "version": "3.9.20"
  }
 },
 "nbformat": 4,
 "nbformat_minor": 2
}
