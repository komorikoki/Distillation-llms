{
 "cells": [
  {
   "cell_type": "code",
   "execution_count": 1,
   "metadata": {},
   "outputs": [],
   "source": [
    "from datasets import load_dataset\n",
    "from transformers import AutoModelForCausalLM, Trainer, TrainingArguments, AutoTokenizer\n",
    "import re\n",
    "from tqdm import tqdm\n",
    "import torch\n",
    "from torch.optim import AdamW\n",
    "\n",
    "ds = load_dataset(\"Salesforce/wikitext\", \"wikitext-103-raw-v1\")\n",
    "device='cuda'\n",
    "# モデルの準備\n",
    "teacher_model = AutoModelForCausalLM.from_pretrained(\"../distillLLAMA2\")\n",
    "tokenizer = AutoTokenizer.from_pretrained(\"meta-llama/Llama-3.2-1B-Instruct\")\n",
    "tokenizer.pad_token = tokenizer.eos_token\n",
    "tokenizer.pad_token_id = tokenizer.eos_token_id\n",
    "\n",
    "train_dataset=ds[\"train\"].shuffle(seed=42).select(range(120000))\n",
    "validation_dataset=ds[\"validation\"].shuffle(seed=42).select(range(3500))\n",
    "train_dataset = train_dataset[\"text\"]\n",
    "train_dataset = [item for item in train_dataset if item != '' and len(item) >= 50 and '@' not in item]\n",
    "validation_dataset=validation_dataset[\"text\"]\n",
    "validation_dataset = [item for item in validation_dataset if item != '' and len(item) >= 50 and '@' not in item]\n",
    "\n",
    "\n",
    "\n",
    "train_dataset = [re.sub(r'[^a-zA-Z ]', '', item) for item in train_dataset]\n",
    "train_dataset = [re.sub(r'\\s+', ' ', item) for item in train_dataset]\n",
    "validation_dataset = [re.sub(r'[^a-zA-Z ]', '', item) for item in validation_dataset]\n",
    "validation_dataset = [re.sub(r'\\s+', ' ', item) for item in validation_dataset]"
   ]
  },
  {
   "cell_type": "code",
   "execution_count": 2,
   "metadata": {},
   "outputs": [
    {
     "name": "stderr",
     "output_type": "stream",
     "text": [
      "Tokenizing dataset: 100%|██████████| 23979/23979 [00:12<00:00, 1892.72it/s]\n"
     ]
    }
   ],
   "source": [
    "# 入力とラベルを設定\n",
    "train_data = []\n",
    "for text in tqdm(train_dataset, desc=\"Tokenizing dataset\"):\n",
    "    tokenized = tokenizer(text, padding=\"max_length\", max_length=32, truncation=True, return_tensors=\"pt\")\n",
    "    input_ids = tokenized['input_ids'].squeeze().tolist()\n",
    "    attention_mask = tokenized['attention_mask'].squeeze().tolist()\n",
    "    labels = input_ids[1:] + [tokenizer.pad_token_id]\n",
    "    labels[-1]=-100\n",
    "    train_data.append({\"input_ids\": input_ids, \"labels\": labels, \"attention_mask\":attention_mask})"
   ]
  },
  {
   "cell_type": "code",
   "execution_count": 7,
   "metadata": {},
   "outputs": [],
   "source": [
    "input_ids = [item[\"input_ids\"] for item in train_data]"
   ]
  },
  {
   "cell_type": "code",
   "execution_count": 28,
   "metadata": {},
   "outputs": [],
   "source": [
    "# 仮定: ボキャブラリサイズと頻出語のトークンIDを定義\n",
    "vocab_size = teacher_model.config.vocab_size\n",
    "weights = torch.ones(vocab_size)  # 全単語の重みを 1 に初期化"
   ]
  },
  {
   "cell_type": "code",
   "execution_count": 29,
   "metadata": {},
   "outputs": [],
   "source": [
    "for i in input_ids:\n",
    "    for j in i:\n",
    "        weights[j]+=1"
   ]
  },
  {
   "cell_type": "code",
   "execution_count": 34,
   "metadata": {},
   "outputs": [],
   "source": [
    "weights=1/weights"
   ]
  },
  {
   "cell_type": "code",
   "execution_count": 36,
   "metadata": {},
   "outputs": [],
   "source": [
    "torch.set_printoptions(threshold=torch.inf)\n",
    "weights\n",
    "torch.set_printoptions(threshold=1000)"
   ]
  },
  {
   "cell_type": "code",
   "execution_count": null,
   "metadata": {},
   "outputs": [],
   "source": []
  }
 ],
 "metadata": {
  "kernelspec": {
   "display_name": "my-env",
   "language": "python",
   "name": "python3"
  },
  "language_info": {
   "codemirror_mode": {
    "name": "ipython",
    "version": 3
   },
   "file_extension": ".py",
   "mimetype": "text/x-python",
   "name": "python",
   "nbconvert_exporter": "python",
   "pygments_lexer": "ipython3",
   "version": "3.9.20"
  }
 },
 "nbformat": 4,
 "nbformat_minor": 2
}
