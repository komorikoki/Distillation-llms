{
 "cells": [
  {
   "cell_type": "code",
   "execution_count": 1,
   "metadata": {},
   "outputs": [],
   "source": [
    "from datasets import load_dataset, Dataset\n",
    "ds = load_dataset(\"Salesforce/wikitext\", \"wikitext-103-raw-v1\")"
   ]
  },
  {
   "cell_type": "code",
   "execution_count": 2,
   "metadata": {},
   "outputs": [],
   "source": [
    "from transformers import AutoModelForCausalLM, Trainer, TrainingArguments, AutoTokenizer\n",
    "device='cuda'\n",
    "# モデルの準備\n",
    "teacher_model = AutoModelForCausalLM.from_pretrained(\"meta-llama/Llama-3.2-1B-Instruct\")\n",
    "tokenizer = AutoTokenizer.from_pretrained(\"meta-llama/Llama-3.2-1B-Instruct\")\n",
    "tokenizer.pad_token = tokenizer.eos_token\n",
    "tokenizer.pad_token_id = tokenizer.eos_token_id"
   ]
  },
  {
   "cell_type": "code",
   "execution_count": 3,
   "metadata": {},
   "outputs": [],
   "source": [
    "train_dataset=ds[\"train\"].shuffle(seed=42).select(range(1000))\n",
    "validation_dataset=ds[\"validation\"].shuffle(seed=42).select(range(300))\n",
    "train_dataset = train_dataset[\"text\"]\n",
    "train_dataset = [item for item in train_dataset if item != '']\n",
    "validation_dataset=validation_dataset[\"text\"]\n",
    "validation_dataset = [item for item in validation_dataset if item != '']\n"
   ]
  },
  {
   "cell_type": "code",
   "execution_count": 4,
   "metadata": {},
   "outputs": [],
   "source": [
    "# 入力とラベルを設定\n",
    "validation_data = []\n",
    "for text in validation_dataset:\n",
    "    tokenized = tokenizer(text, padding=\"max_length\", max_length=128, truncation=True, return_tensors=\"pt\")\n",
    "    input_ids = tokenized['input_ids'].squeeze().tolist()\n",
    "    # 次の単語のインデックスをラベルとして追加\n",
    "    labels = input_ids[1:] + [tokenizer.pad_token_id]  # 最初の単語を除いて次の単語をラベルにする\n",
    "    validation_data.append({\"input_ids\": input_ids, \"labels\": labels})\n",
    "\n",
    "# Datasetの作成\n",
    "validation_dataset = Dataset.from_list(validation_data)"
   ]
  },
  {
   "cell_type": "code",
   "execution_count": 5,
   "metadata": {},
   "outputs": [
    {
     "name": "stderr",
     "output_type": "stream",
     "text": [
      "Tokenizing dataset: 100%|██████████| 617/617 [00:00<00:00, 3289.93it/s]\n"
     ]
    }
   ],
   "source": [
    "from tqdm import tqdm\n",
    "from datasets import Dataset\n",
    "\n",
    "# 入力とラベルを設定\n",
    "train_data = []\n",
    "for text in tqdm(train_dataset, desc=\"Tokenizing dataset\"):\n",
    "    tokenized = tokenizer(text, padding=\"max_length\", max_length=128, truncation=True, return_tensors=\"pt\")\n",
    "    input_ids = tokenized['input_ids'].squeeze().tolist()\n",
    "    # 次の単語のインデックスをラベルとして追加\n",
    "    labels = input_ids[1:] + [tokenizer.pad_token_id]  # 最初の単語を除いて次の単語をラベルにする\n",
    "    train_data.append({\"input_ids\": input_ids, \"labels\": labels})\n",
    "\n",
    "# Datasetの作成\n",
    "train_dataset = Dataset.from_list(train_data)\n"
   ]
  },
  {
   "cell_type": "code",
   "execution_count": 6,
   "metadata": {},
   "outputs": [
    {
     "name": "stdout",
     "output_type": "stream",
     "text": [
      "[128000, 578, 2547, 430, 7437, 7353, 19092, 9021, 369, 30334, 374, 279, 30334, 87415, 12000, 320, 30334, 571, 12, 31, 13174, 883, 902, 20628, 520, 279, 25992, 9343, 1174, 323, 832, 1023, 2391, 279, 1060, 1174, 323, 374, 279, 2942, 430, 6089, 84261, 449, 279, 44250, 14726, 315, 279, 5426, 17047, 315, 279, 4562, 5415, 902, 9732, 57316, 17384, 1174, 477, 96662, 311, 30334, 662, 578, 30334, 87415, 12000, 374, 1903, 709, 315, 48962, 505, 279, 4562, 5961, 315, 279, 4892, 23179, 23590, 439, 1664, 439, 61759, 22712, 3697, 662, 35131, 362, 13, 33794, 388, 1174, 6063, 32724, 27390, 315, 279, 40007, 10554, 315, 279, 30708, 478, 351, 323, 264, 4562, 315, 279, 9052, 11650, 9323, 1174, 6244, 4872, 315, 279, 14956, 304, 220, 679, 15, 662, 1102]\n",
      "[578, 2547, 430, 7437, 7353, 19092, 9021, 369, 30334, 374, 279, 30334, 87415, 12000, 320, 30334, 571, 12, 31, 13174, 883, 902, 20628, 520, 279, 25992, 9343, 1174, 323, 832, 1023, 2391, 279, 1060, 1174, 323, 374, 279, 2942, 430, 6089, 84261, 449, 279, 44250, 14726, 315, 279, 5426, 17047, 315, 279, 4562, 5415, 902, 9732, 57316, 17384, 1174, 477, 96662, 311, 30334, 662, 578, 30334, 87415, 12000, 374, 1903, 709, 315, 48962, 505, 279, 4562, 5961, 315, 279, 4892, 23179, 23590, 439, 1664, 439, 61759, 22712, 3697, 662, 35131, 362, 13, 33794, 388, 1174, 6063, 32724, 27390, 315, 279, 40007, 10554, 315, 279, 30708, 478, 351, 323, 264, 4562, 315, 279, 9052, 11650, 9323, 1174, 6244, 4872, 315, 279, 14956, 304, 220, 679, 15, 662, 1102, 128009]\n"
     ]
    }
   ],
   "source": [
    "print(train_dataset['input_ids'][10])\n",
    "print(train_dataset['labels'][10])"
   ]
  },
  {
   "cell_type": "code",
   "execution_count": 7,
   "metadata": {},
   "outputs": [],
   "source": [
    "import os\n",
    "os.environ[\"TOKENIZERS_PARALLELISM\"] = \"false\"\n",
    "\n",
    "teacher_model.to(device)\n",
    "# トレーニング設定\n",
    "teacher_model.train()\n",
    "\n",
    "training_args = TrainingArguments(\n",
    "    output_dir=\"./trainteacher\",\n",
    "    eval_strategy=\"no\",\n",
    "    learning_rate=5e-5,\n",
    "    per_device_train_batch_size=4,\n",
    "    num_train_epochs=3,\n",
    ")\n",
    "\n",
    "# Trainerのセットアップ\n",
    "trainer = Trainer(\n",
    "    model=teacher_model,\n",
    "    args=training_args,\n",
    "    train_dataset=train_dataset,\n",
    "    eval_dataset=validation_dataset,\n",
    ")\n",
    "\n"
   ]
  },
  {
   "cell_type": "code",
   "execution_count": null,
   "metadata": {},
   "outputs": [
    {
     "data": {
      "text/html": [
       "\n",
       "    <div>\n",
       "      \n",
       "      <progress value='363' max='465' style='width:300px; height:20px; vertical-align: middle;'></progress>\n",
       "      [363/465 22:22 < 06:19, 0.27 it/s, Epoch 2.34/3]\n",
       "    </div>\n",
       "    <table border=\"1\" class=\"dataframe\">\n",
       "  <thead>\n",
       " <tr style=\"text-align: left;\">\n",
       "      <th>Step</th>\n",
       "      <th>Training Loss</th>\n",
       "    </tr>\n",
       "  </thead>\n",
       "  <tbody>\n",
       "  </tbody>\n",
       "</table><p>"
      ],
      "text/plain": [
       "<IPython.core.display.HTML object>"
      ]
     },
     "metadata": {},
     "output_type": "display_data"
    }
   ],
   "source": [
    "# 教師モデルのトレーニング\n",
    "trainer.train()\n"
   ]
  },
  {
   "cell_type": "code",
   "execution_count": null,
   "metadata": {},
   "outputs": [],
   "source": [
    "teacher_model.save_pretrained(\"./teacherlg\")"
   ]
  },
  {
   "cell_type": "code",
   "execution_count": 26,
   "metadata": {},
   "outputs": [
    {
     "data": {
      "text/html": [
       "\n",
       "    <div>\n",
       "      \n",
       "      <progress value='24' max='24' style='width:300px; height:20px; vertical-align: middle;'></progress>\n",
       "      [24/24 00:03]\n",
       "    </div>\n",
       "    "
      ],
      "text/plain": [
       "<IPython.core.display.HTML object>"
      ]
     },
     "metadata": {},
     "output_type": "display_data"
    },
    {
     "name": "stdout",
     "output_type": "stream",
     "text": [
      "{'eval_loss': 4.124519348144531, 'eval_model_preparation_time': 0.0019, 'eval_runtime': 4.0364, 'eval_samples_per_second': 47.568, 'eval_steps_per_second': 5.946}\n"
     ]
    }
   ],
   "source": [
    "teacher_model.eval()\n",
    "eval_results=trainer.evaluate()\n",
    "print(eval_results)"
   ]
  },
  {
   "cell_type": "code",
   "execution_count": null,
   "metadata": {},
   "outputs": [],
   "source": [
    "teacher_model.push_to_hub(\"llama-3epochs\", private=True)"
   ]
  },
  {
   "cell_type": "code",
   "execution_count": null,
   "metadata": {},
   "outputs": [],
   "source": []
  }
 ],
 "metadata": {
  "kernelspec": {
   "display_name": "my-env",
   "language": "python",
   "name": "python3"
  },
  "language_info": {
   "codemirror_mode": {
    "name": "ipython",
    "version": 3
   },
   "file_extension": ".py",
   "mimetype": "text/x-python",
   "name": "python",
   "nbconvert_exporter": "python",
   "pygments_lexer": "ipython3",
   "version": "3.9.20"
  }
 },
 "nbformat": 4,
 "nbformat_minor": 2
}
