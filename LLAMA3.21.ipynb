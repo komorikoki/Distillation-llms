{
 "cells": [
  {
   "cell_type": "code",
   "execution_count": 26,
   "metadata": {},
   "outputs": [],
   "source": [
    "# Load model directly\n",
    "from transformers import AutoTokenizer, AutoModelForCausalLM\n",
    "\n",
    "tokenizer = AutoTokenizer.from_pretrained(\"meta-llama/Llama-3.2-1B-Instruct\")\n",
    "model = AutoModelForCausalLM.from_pretrained(\"meta-llama/Llama-3.2-1B-Instruct\")"
   ]
  },
  {
   "cell_type": "code",
   "execution_count": 27,
   "metadata": {},
   "outputs": [
    {
     "name": "stdout",
     "output_type": "stream",
     "text": [
      "tensor([[1, 1, 1, 1, 1, 1, 1, 1, 1, 1, 1, 1]], device='cuda:0') {'input_ids': tensor([[128000,  12840,    374,    279,   9507,     76,  11571,  10552,    220,\n",
      "             16,  11914,     13]], device='cuda:0'), 'attention_mask': tensor([[1, 1, 1, 1, 1, 1, 1, 1, 1, 1, 1, 1]], device='cuda:0')}\n",
      "tensor([[128000,  12840,    374,    279,   9507,     76,  11571,  10552,    220,\n",
      "             16,  11914,     13,    362,   4221,   1646,    374,    264,   6500,\n",
      "           2068,   6319]], device='cuda:0')\n",
      "what is the llm？ explain 1 sentence. A language model is a computer program designed\n"
     ]
    },
    {
     "name": "stderr",
     "output_type": "stream",
     "text": [
      "/root/miniconda3/envs/my-env/lib/python3.9/site-packages/transformers/generation/utils.py:1220: UserWarning: Using the model-agnostic default `max_length` (=20) to control the generation length. We recommend setting `max_new_tokens` to control the maximum length of the generation.\n",
      "  warnings.warn(\n"
     ]
    }
   ],
   "source": [
    "# 質問の入力\n",
    "tokenizer.pad_token = tokenizer.eos_token\n",
    "tokenizer.pad_token_id = tokenizer.eos_token_id\n",
    "\n",
    "device='cuda'\n",
    "question = \"what is the llm？ explain 1 sentence.\"\n",
    "input_ids = tokenizer(question, return_tensors=\"pt\", truncation=True, padding=True).to(device)\n",
    "model.to(device)\n",
    "\n",
    "attention_mask=input_ids['attention_mask']\n",
    "print(attention_mask, input_ids)\n",
    "\n",
    "output = model.generate(input_ids['input_ids'], attention_mask=attention_mask, pad_token_id=tokenizer.eos_token_id)\n",
    "print(output)\n",
    "\n",
    "# 出力のデコード\n",
    "answer = tokenizer.decode(output[0], skip_special_tokens=True)\n",
    "print(answer)"
   ]
  },
  {
   "cell_type": "code",
   "execution_count": 59,
   "metadata": {},
   "outputs": [
    {
     "name": "stdout",
     "output_type": "stream",
     "text": [
      "torch.Size([1, 3, 128256])\n"
     ]
    }
   ],
   "source": [
    "question = \"a b\"\n",
    "input_ids = tokenizer(question, return_tensors=\"pt\", truncation=True, padding=True).to(device)\n",
    "output = model(input_ids['input_ids'], attention_mask=attention_mask)\n",
    "print(output.logits.size())"
   ]
  },
  {
   "cell_type": "code",
   "execution_count": 60,
   "metadata": {},
   "outputs": [
    {
     "name": "stdout",
     "output_type": "stream",
     "text": [
      "tensor([3.3344e-06, 1.1764e-06, 8.8509e-07,  ..., 7.4480e-10, 7.4465e-10,\n",
      "        7.4483e-10], device='cuda:0', grad_fn=<SoftmaxBackward0>)\n",
      "tensor(272, device='cuda:0')\n",
      " c\n"
     ]
    }
   ],
   "source": [
    "import torch\n",
    "probabilities = torch.softmax(output.logits[0][2], dim=-1)\n",
    "print(probabilities)\n",
    "predicted_token_ids = torch.argmax(probabilities, dim=-1)\n",
    "print(predicted_token_ids)\n",
    "decoded_text = tokenizer.decode(predicted_token_ids, skip_special_tokens=True)\n",
    "print(decoded_text)"
   ]
  },
  {
   "cell_type": "code",
   "execution_count": null,
   "metadata": {},
   "outputs": [],
   "source": []
  }
 ],
 "metadata": {
  "kernelspec": {
   "display_name": "my-env",
   "language": "python",
   "name": "python3"
  },
  "language_info": {
   "codemirror_mode": {
    "name": "ipython",
    "version": 3
   },
   "file_extension": ".py",
   "mimetype": "text/x-python",
   "name": "python",
   "nbconvert_exporter": "python",
   "pygments_lexer": "ipython3",
   "version": "3.9.20"
  }
 },
 "nbformat": 4,
 "nbformat_minor": 2
}
